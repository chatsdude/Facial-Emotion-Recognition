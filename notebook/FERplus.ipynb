{
  "cells": [
    {
      "cell_type": "markdown",
      "source": [
        "Facial emotions are universal way of interaction. In this notebook, we look at various CNN architectures to classify 7 different types of emotions. The data consists of 48x48 pixel grayscale images of faces. The faces have been automatically registered so that the face is more or less centered and occupies about the same amount of space in each image. The task is to categorize each face based on the emotion shown in the facial expression in to one of seven categories (0=Angry, 1=Disgust, 2=Fear, 3=Happy, 4=Sad, 5=Surprise, 6=Neutral).\n",
        "\n",
        "train.csv contains two columns, \"emotion\" and \"pixels\". The \"emotion\" column contains a numeric code ranging from 0 to 6, inclusive, for the emotion that is present in the image. The \"pixels\" column contains a string surrounded in quotes for each image. The contents of this string a space-separated pixel values in row major order. test.csv contains only the \"pixels\" column and your task is to predict the emotion column.\n",
        "\n",
        "The training set consists of 28,709 examples. The public test set used for the leaderboard consists of 3,589 examples."
      ],
      "metadata": {
        "id": "TZzm54RgNW3M"
      },
      "id": "TZzm54RgNW3M"
    },
    {
      "cell_type": "code",
      "execution_count": null,
      "id": "b3f6edd9-b30c-4284-b656-93df95827210",
      "metadata": {
        "id": "b3f6edd9-b30c-4284-b656-93df95827210"
      },
      "outputs": [],
      "source": [
        "import pandas as pd\n",
        "import numpy as np\n",
        "import tensorflow as tf"
      ]
    },
    {
      "cell_type": "code",
      "source": [
        "from google.colab import drive\n",
        "\n",
        "drive.mount(\"/content/drive\")"
      ],
      "metadata": {
        "colab": {
          "base_uri": "https://localhost:8080/"
        },
        "id": "saDAuIacYaOF",
        "outputId": "7951ae99-fbd7-466a-bc83-4c66cebc4001"
      },
      "id": "saDAuIacYaOF",
      "execution_count": null,
      "outputs": [
        {
          "output_type": "stream",
          "name": "stdout",
          "text": [
            "Mounted at /content/drive\n"
          ]
        }
      ]
    },
    {
      "cell_type": "markdown",
      "id": "0cc3a558-9b73-46e8-8eff-7601e1ed18f8",
      "metadata": {
        "id": "0cc3a558-9b73-46e8-8eff-7601e1ed18f8"
      },
      "source": [
        "Emotion column mapping is as follows:\n",
        "\n",
        "(0=Angry, 1=Disgust, 2=Fear, 3=Happy, 4=Sad, 5=Surprise, 6=Neutral)"
      ]
    },
    {
      "cell_type": "code",
      "execution_count": null,
      "id": "c3f40151-4e04-49a8-a6a1-94363f7bf095",
      "metadata": {
        "id": "c3f40151-4e04-49a8-a6a1-94363f7bf095"
      },
      "outputs": [],
      "source": [
        "samples_per_class = []\n",
        "\n",
        "for cls in range(7):\n",
        "    samples_per_class.append(len(train_data[train_data['emotion'] == cls]))"
      ]
    },
    {
      "cell_type": "code",
      "execution_count": null,
      "id": "bc59d83c-7c3c-4383-afd3-4283f910aa1b",
      "metadata": {
        "id": "bc59d83c-7c3c-4383-afd3-4283f910aa1b",
        "outputId": "3388b741-723a-40b9-8ba1-22afcab95dc9"
      },
      "outputs": [
        {
          "data": {
            "text/plain": [
              "[3995, 436, 4097, 7215, 4830, 3171, 4965]"
            ]
          },
          "execution_count": 17,
          "metadata": {},
          "output_type": "execute_result"
        }
      ],
      "source": [
        "samples_per_class"
      ]
    },
    {
      "cell_type": "code",
      "execution_count": null,
      "id": "01b2774d-f722-4de4-b9d2-9e16a04342fa",
      "metadata": {
        "id": "01b2774d-f722-4de4-b9d2-9e16a04342fa"
      },
      "outputs": [],
      "source": [
        ""
      ]
    },
    {
      "cell_type": "code",
      "execution_count": null,
      "id": "c007f375-3e3f-442e-a12c-2cae3f2f3c33",
      "metadata": {
        "id": "c007f375-3e3f-442e-a12c-2cae3f2f3c33",
        "outputId": "1acb55d9-6551-400c-b5aa-501db82fda55"
      },
      "outputs": [
        {
          "data": {
            "text/plain": [
              "Text(0, 0.5, 'No. of samples')"
            ]
          },
          "execution_count": 21,
          "metadata": {},
          "output_type": "execute_result"
        },
        {
          "data": {
            "image/png": "[encoded data removed]",
            "text/plain": [
              "<Figure size 720x432 with 1 Axes>"
            ]
          },
          "metadata": {
            "needs_background": "light"
          },
          "output_type": "display_data"
        }
      ],
      "source": [
        "import matplotlib.pyplot as plt\n",
        "%matplotlib inline\n",
        "import seaborn as sns\n",
        "\n",
        "# Set the width and height of the figure\n",
        "plt.figure(figsize=(10,6))\n",
        "\n",
        "x_data = [\"Angry\", \"Disgust\", \"Fear\", \"Happy\", \"Sad\", \"Surprise\", \"Neutral\"]\n",
        "\n",
        "# Add title\n",
        "plt.title(\"Sample distribution by class labels\")\n",
        "\n",
        "# Bar chart sample distribution in the dataset.\n",
        "sns.barplot(x=x_data, y=samples_per_class)\n",
        "\n",
        "# Add label for vertical axis\n",
        "plt.ylabel(\"No. of samples\")"
      ]
    },
    {
      "cell_type": "code",
      "execution_count": null,
      "id": "528c8955-8a00-4c4f-bd18-0d8b3cb920df",
      "metadata": {
        "id": "528c8955-8a00-4c4f-bd18-0d8b3cb920df",
        "outputId": "b2a988bb-71df-4127-c333-411a2b7c08cb"
      },
      "outputs": [
        {
          "data": {
            "text/html": [
              "<div>\n",
              "<style scoped>\n",
              "    .dataframe tbody tr th:only-of-type {\n",
              "        vertical-align: middle;\n",
              "    }\n",
              "\n",
              "    .dataframe tbody tr th {\n",
              "        vertical-align: top;\n",
              "    }\n",
              "\n",
              "    .dataframe thead th {\n",
              "        text-align: right;\n",
              "    }\n",
              "</style>\n",
              "<table border=\"1\" class=\"dataframe\">\n",
              "  <thead>\n",
              "    <tr style=\"text-align: right;\">\n",
              "      <th></th>\n",
              "      <th>pixels</th>\n",
              "    </tr>\n",
              "  </thead>\n",
              "  <tbody>\n",
              "    <tr>\n",
              "      <th>0</th>\n",
              "      <td>254 254 254 254 254 249 255 160 2 58 53 70 77 ...</td>\n",
              "    </tr>\n",
              "    <tr>\n",
              "      <th>1</th>\n",
              "      <td>156 184 198 202 204 207 210 212 213 214 215 21...</td>\n",
              "    </tr>\n",
              "    <tr>\n",
              "      <th>2</th>\n",
              "      <td>69 118 61 60 96 121 103 87 103 88 70 90 115 12...</td>\n",
              "    </tr>\n",
              "    <tr>\n",
              "      <th>3</th>\n",
              "      <td>205 203 236 157 83 158 120 116 94 86 155 180 2...</td>\n",
              "    </tr>\n",
              "    <tr>\n",
              "      <th>4</th>\n",
              "      <td>87 79 74 66 74 96 77 80 80 84 83 89 102 91 84 ...</td>\n",
              "    </tr>\n",
              "  </tbody>\n",
              "</table>\n",
              "</div>"
            ],
            "text/plain": [
              "                                              pixels\n",
              "0  254 254 254 254 254 249 255 160 2 58 53 70 77 ...\n",
              "1  156 184 198 202 204 207 210 212 213 214 215 21...\n",
              "2  69 118 61 60 96 121 103 87 103 88 70 90 115 12...\n",
              "3  205 203 236 157 83 158 120 116 94 86 155 180 2...\n",
              "4  87 79 74 66 74 96 77 80 80 84 83 89 102 91 84 ..."
            ]
          },
          "execution_count": 23,
          "metadata": {},
          "output_type": "execute_result"
        }
      ],
      "source": [
        "test_data = pd.read_csv(test_data_path)\n",
        "test_data.head()"
      ]
    },
    {
      "cell_type": "code",
      "execution_count": null,
      "id": "b9464495-5d40-44fa-b85f-fbee350a2ebe",
      "metadata": {
        "id": "b9464495-5d40-44fa-b85f-fbee350a2ebe"
      },
      "outputs": [],
      "source": [
        "data_path = \"/content/drive/MyDrive/data/icml_face_data.csv\"\n",
        "\n",
        "data = pd.read_csv(data_path)"
      ]
    },
    {
      "cell_type": "code",
      "execution_count": null,
      "id": "d9a438a6-71ad-48e4-978d-78657c27695d",
      "metadata": {
        "colab": {
          "base_uri": "https://localhost:8080/"
        },
        "id": "d9a438a6-71ad-48e4-978d-78657c27695d",
        "outputId": "6bbd698b-a3f7-4757-afca-767f37347c07"
      },
      "outputs": [
        {
          "output_type": "execute_result",
          "data": {
            "text/plain": [
              "Training       28709\n",
              "PublicTest      3589\n",
              "PrivateTest     3589\n",
              "Name:  Usage, dtype: int64"
            ]
          },
          "metadata": {},
          "execution_count": 4
        }
      ],
      "source": [
        "data[\" Usage\"].value_counts()"
      ]
    },
    {
      "cell_type": "code",
      "execution_count": null,
      "id": "ff667829-d027-4fad-873a-f5f53ea19ffe",
      "metadata": {
        "colab": {
          "base_uri": "https://localhost:8080/",
          "height": 206
        },
        "id": "ff667829-d027-4fad-873a-f5f53ea19ffe",
        "outputId": "15a143d2-09c2-4a81-b80e-69730ff76e5a"
      },
      "outputs": [
        {
          "output_type": "execute_result",
          "data": {
            "text/plain": [
              "   emotion     Usage                                             pixels\n",
              "0        0  Training  70 80 82 72 58 58 60 63 54 58 60 48 89 115 121...\n",
              "1        0  Training  151 150 147 155 148 133 111 140 170 174 182 15...\n",
              "2        2  Training  231 212 156 164 174 138 161 173 182 200 106 38...\n",
              "3        4  Training  24 32 36 30 32 23 19 20 30 41 21 22 32 34 21 1...\n",
              "4        6  Training  4 0 0 0 0 0 0 0 0 0 0 0 3 15 23 28 48 50 58 84..."
            ],
            "text/html": [
              "\n",
              "  <div id=\"df-5f382698-0f4b-491c-8e71-03f8301ed61a\">\n",
              "    <div class=\"colab-df-container\">\n",
              "      <div>\n",
              "<style scoped>\n",
              "    .dataframe tbody tr th:only-of-type {\n",
              "        vertical-align: middle;\n",
              "    }\n",
              "\n",
              "    .dataframe tbody tr th {\n",
              "        vertical-align: top;\n",
              "    }\n",
              "\n",
              "    .dataframe thead th {\n",
              "        text-align: right;\n",
              "    }\n",
              "</style>\n",
              "<table border=\"1\" class=\"dataframe\">\n",
              "  <thead>\n",
              "    <tr style=\"text-align: right;\">\n",
              "      <th></th>\n",
              "      <th>emotion</th>\n",
              "      <th>Usage</th>\n",
              "      <th>pixels</th>\n",
              "    </tr>\n",
              "  </thead>\n",
              "  <tbody>\n",
              "    <tr>\n",
              "      <th>0</th>\n",
              "      <td>0</td>\n",
              "      <td>Training</td>\n",
              "      <td>70 80 82 72 58 58 60 63 54 58 60 48 89 115 121...</td>\n",
              "    </tr>\n",
              "    <tr>\n",
              "      <th>1</th>\n",
              "      <td>0</td>\n",
              "      <td>Training</td>\n",
              "      <td>151 150 147 155 148 133 111 140 170 174 182 15...</td>\n",
              "    </tr>\n",
              "    <tr>\n",
              "      <th>2</th>\n",
              "      <td>2</td>\n",
              "      <td>Training</td>\n",
              "      <td>231 212 156 164 174 138 161 173 182 200 106 38...</td>\n",
              "    </tr>\n",
              "    <tr>\n",
              "      <th>3</th>\n",
              "      <td>4</td>\n",
              "      <td>Training</td>\n",
              "      <td>24 32 36 30 32 23 19 20 30 41 21 22 32 34 21 1...</td>\n",
              "    </tr>\n",
              "    <tr>\n",
              "      <th>4</th>\n",
              "      <td>6</td>\n",
              "      <td>Training</td>\n",
              "      <td>4 0 0 0 0 0 0 0 0 0 0 0 3 15 23 28 48 50 58 84...</td>\n",
              "    </tr>\n",
              "  </tbody>\n",
              "</table>\n",
              "</div>\n",
              "      <button class=\"colab-df-convert\" onclick=\"convertToInteractive('df-5f382698-0f4b-491c-8e71-03f8301ed61a')\"\n",
              "              title=\"Convert this dataframe to an interactive table.\"\n",
              "              style=\"display:none;\">\n",
              "        \n",
              "  <svg xmlns=\"http://www.w3.org/2000/svg\" height=\"24px\"viewBox=\"0 0 24 24\"\n",
              "       width=\"24px\">\n",
              "    <path d=\"M0 0h24v24H0V0z\" fill=\"none\"/>\n",
              "    <path d=\"M18.56 5.44l.94 2.06.94-2.06 2.06-.94-2.06-.94-.94-2.06-.94 2.06-2.06.94zm-11 1L8.5 8.5l.94-2.06 2.06-.94-2.06-.94L8.5 2.5l-.94 2.06-2.06.94zm10 10l.94 2.06.94-2.06 2.06-.94-2.06-.94-.94-2.06-.94 2.06-2.06.94z\"/><path d=\"M17.41 7.96l-1.37-1.37c-.4-.4-.92-.59-1.43-.59-.52 0-1.04.2-1.43.59L10.3 9.45l-7.72 7.72c-.78.78-.78 2.05 0 2.83L4 21.41c.39.39.9.59 1.41.59.51 0 1.02-.2 1.41-.59l7.78-7.78 2.81-2.81c.8-.78.8-2.07 0-2.86zM5.41 20L4 18.59l7.72-7.72 1.47 1.35L5.41 20z\"/>\n",
              "  </svg>\n",
              "      </button>\n",
              "      \n",
              "  <style>\n",
              "    .colab-df-container {\n",
              "      display:flex;\n",
              "      flex-wrap:wrap;\n",
              "      gap: 12px;\n",
              "    }\n",
              "\n",
              "    .colab-df-convert {\n",
              "      background-color: #E8F0FE;\n",
              "      border: none;\n",
              "      border-radius: 50%;\n",
              "      cursor: pointer;\n",
              "      display: none;\n",
              "      fill: #1967D2;\n",
              "      height: 32px;\n",
              "      padding: 0 0 0 0;\n",
              "      width: 32px;\n",
              "    }\n",
              "\n",
              "    .colab-df-convert:hover {\n",
              "      background-color: #E2EBFA;\n",
              "      box-shadow: 0px 1px 2px rgba(60, 64, 67, 0.3), 0px 1px 3px 1px rgba(60, 64, 67, 0.15);\n",
              "      fill: #174EA6;\n",
              "    }\n",
              "\n",
              "    [theme=dark] .colab-df-convert {\n",
              "      background-color: #3B4455;\n",
              "      fill: #D2E3FC;\n",
              "    }\n",
              "\n",
              "    [theme=dark] .colab-df-convert:hover {\n",
              "      background-color: #434B5C;\n",
              "      box-shadow: 0px 1px 3px 1px rgba(0, 0, 0, 0.15);\n",
              "      filter: drop-shadow(0px 1px 2px rgba(0, 0, 0, 0.3));\n",
              "      fill: #FFFFFF;\n",
              "    }\n",
              "  </style>\n",
              "\n",
              "      <script>\n",
              "        const buttonEl =\n",
              "          document.querySelector('#df-5f382698-0f4b-491c-8e71-03f8301ed61a button.colab-df-convert');\n",
              "        buttonEl.style.display =\n",
              "          google.colab.kernel.accessAllowed ? 'block' : 'none';\n",
              "\n",
              "        async function convertToInteractive(key) {\n",
              "          const element = document.querySelector('#df-5f382698-0f4b-491c-8e71-03f8301ed61a');\n",
              "          const dataTable =\n",
              "            await google.colab.kernel.invokeFunction('convertToInteractive',\n",
              "                                                     [key], {});\n",
              "          if (!dataTable) return;\n",
              "\n",
              "          const docLinkHtml = 'Like what you see? Visit the ' +\n",
              "            '<a target=\"_blank\" href=https://colab.research.google.com/notebooks/data_table.ipynb>data table notebook</a>'\n",
              "            + ' to learn more about interactive tables.';\n",
              "          element.innerHTML = '';\n",
              "          dataTable['output_type'] = 'display_data';\n",
              "          await google.colab.output.renderOutput(dataTable, element);\n",
              "          const docLink = document.createElement('div');\n",
              "          docLink.innerHTML = docLinkHtml;\n",
              "          element.appendChild(docLink);\n",
              "        }\n",
              "      </script>\n",
              "    </div>\n",
              "  </div>\n",
              "  "
            ]
          },
          "metadata": {},
          "execution_count": 5
        }
      ],
      "source": [
        "data.head()"
      ]
    },
    {
      "cell_type": "code",
      "execution_count": null,
      "id": "e3472a07-94e4-4b7f-a9ee-49dbe287c3f1",
      "metadata": {
        "id": "e3472a07-94e4-4b7f-a9ee-49dbe287c3f1"
      },
      "outputs": [],
      "source": [
        "data.columns = data.columns.str.replace(\" \",\"\")"
      ]
    },
    {
      "cell_type": "code",
      "source": [
        "len(data[(data['Usage'] == \"Training\") & (data[\"emotion\"] == 1)])"
      ],
      "metadata": {
        "colab": {
          "base_uri": "https://localhost:8080/"
        },
        "id": "_14BH7QKbUVb",
        "outputId": "0e01ccb9-8ac0-4bb2-8bd2-36b81b977db7"
      },
      "id": "_14BH7QKbUVb",
      "execution_count": null,
      "outputs": [
        {
          "output_type": "execute_result",
          "data": {
            "text/plain": [
              "436"
            ]
          },
          "metadata": {},
          "execution_count": 7
        }
      ]
    },
    {
      "cell_type": "code",
      "source": [
        "def get_label_counts(usage,emotion):\n",
        "  return len(data[(data['Usage'] == usage) & (data[\"emotion\"] == emotion)])"
      ],
      "metadata": {
        "id": "jYP6NEthcFHT"
      },
      "id": "jYP6NEthcFHT",
      "execution_count": null,
      "outputs": []
    },
    {
      "cell_type": "code",
      "source": [
        "usages = [\"Training\",\"PublicTest\"]\n",
        "\n",
        "train_label_count = {}\n",
        "test_label_count = {}\n",
        "\n",
        "for usage in usages:\n",
        "  for label in range(7):\n",
        "    if usage == \"Training\":\n",
        "      train_label_count[label] = get_label_counts(usage,label)\n",
        "    else:\n",
        "      test_label_count[label] = get_label_counts(usage,label)\n"
      ],
      "metadata": {
        "id": "gDZq_noyd2nr"
      },
      "id": "gDZq_noyd2nr",
      "execution_count": null,
      "outputs": []
    },
    {
      "cell_type": "code",
      "source": [
        "import math\n",
        "\n",
        "def create_class_weight(labels_dict,mu=0.15):\n",
        "    total = np.sum(list(labels_dict.values()))\n",
        "    keys = labels_dict.keys()\n",
        "    class_weight = dict()\n",
        "    \n",
        "    for key in keys:\n",
        "        score = math.log(mu*total/float(labels_dict[key]))\n",
        "        class_weight[key] = score if score > 1.0 else 1.0\n",
        "    \n",
        "    return class_weight"
      ],
      "metadata": {
        "id": "kiaCYb3nnYrG"
      },
      "id": "kiaCYb3nnYrG",
      "execution_count": null,
      "outputs": []
    },
    {
      "cell_type": "code",
      "source": [
        "class_weights = create_class_weight(train_label_count)\n",
        "class_weights"
      ],
      "metadata": {
        "colab": {
          "base_uri": "https://localhost:8080/"
        },
        "id": "1SbLrhKKna_x",
        "outputId": "c6ea1736-3b8b-4cdf-bbd7-378c5de38b2e"
      },
      "id": "1SbLrhKKna_x",
      "execution_count": null,
      "outputs": [
        {
          "output_type": "execute_result",
          "data": {
            "text/plain": [
              "{0: 1.0, 1: 2.290203713204264, 2: 1.0, 3: 1.0, 4: 1.0, 5: 1.0, 6: 1.0}"
            ]
          },
          "metadata": {},
          "execution_count": 11
        }
      ]
    },
    {
      "cell_type": "code",
      "execution_count": null,
      "id": "8fb919c1-d650-440b-80a7-ec227e220811",
      "metadata": {
        "id": "8fb919c1-d650-440b-80a7-ec227e220811"
      },
      "outputs": [],
      "source": [
        "X_train,train_y,X_test,test_y = [],[],[],[]"
      ]
    },
    {
      "cell_type": "code",
      "execution_count": null,
      "id": "a97ed4cd-0c26-4399-8427-29369603e23b",
      "metadata": {
        "id": "a97ed4cd-0c26-4399-8427-29369603e23b"
      },
      "outputs": [],
      "source": [
        "for index,row in data.iterrows():\n",
        "    pixels = row[\"pixels\"].split(\" \")\n",
        "        \n",
        "    if \"Training\" in row[\"Usage\"]:\n",
        "        X_train.append(np.array(pixels,'float32'))\n",
        "        train_y.append(row['emotion'])\n",
        "    elif \"PublicTest\" in row[\"Usage\"]:\n",
        "        X_test.append(np.array(pixels,'float32'))\n",
        "        test_y.append(row['emotion'])\n",
        "\n",
        "        "
      ]
    },
    {
      "cell_type": "code",
      "execution_count": null,
      "id": "a9e74fe1-81ee-4378-ada8-0399553e456b",
      "metadata": {
        "id": "a9e74fe1-81ee-4378-ada8-0399553e456b"
      },
      "outputs": [],
      "source": [
        "X_train = np.array(X_train, 'float32')\n",
        "train_y = np.array(train_y, 'float32')\n",
        "X_test = np.array(X_test, 'float32')\n",
        "test_y = np.array(test_y, 'float32')"
      ]
    },
    {
      "cell_type": "code",
      "execution_count": null,
      "id": "cad5a336-8c65-494f-a0b2-d1e9958d4c0e",
      "metadata": {
        "id": "cad5a336-8c65-494f-a0b2-d1e9958d4c0e"
      },
      "outputs": [],
      "source": [
        "#Standardize the pixel values\n",
        "\n",
        "X_train/=255.0\n",
        "X_test/=255.0"
      ]
    },
    {
      "cell_type": "code",
      "execution_count": null,
      "id": "aad8c85a-ff91-493b-8fde-e81829b58d44",
      "metadata": {
        "id": "aad8c85a-ff91-493b-8fde-e81829b58d44"
      },
      "outputs": [],
      "source": [
        "from sklearn.preprocessing import LabelEncoder\n",
        "\n",
        "n_classes = 7\n",
        "\n",
        "le = LabelEncoder()\n",
        "y_train = le.fit_transform(train_y)\n",
        "y_test = le.transform(test_y)\n",
        "y_train = tf.keras.utils.to_categorical(y_train, n_classes)\n",
        "y_test = tf.keras.utils.to_categorical(y_test, n_classes)"
      ]
    },
    {
      "cell_type": "code",
      "execution_count": null,
      "id": "04512590-cef3-4299-a413-bcb7038fd648",
      "metadata": {
        "id": "04512590-cef3-4299-a413-bcb7038fd648"
      },
      "outputs": [],
      "source": [
        "# Prepare the training dataset.\n",
        "batch_size = 256\n",
        "\n",
        "#input_shape = [-1,48,48,3]\n",
        "\n",
        "train_inputs=tf.convert_to_tensor(X_train)\n",
        "#train_inputs = tf.reshape(train_inputs,input_shape)\n",
        "\n",
        "train_outputs = tf.convert_to_tensor(y_train)\n",
        "\n",
        "train_dataset = tf.data.Dataset.from_tensor_slices((train_inputs, train_outputs))\n",
        "train_dataset = train_dataset.shuffle(buffer_size=1024).batch(batch_size)"
      ]
    },
    {
      "cell_type": "code",
      "execution_count": null,
      "id": "ed325af7-ba22-43a1-ba72-3f830a3b1125",
      "metadata": {
        "id": "ed325af7-ba22-43a1-ba72-3f830a3b1125",
        "outputId": "1b9da27d-ec55-482f-a3e6-93dc8b904fbb",
        "colab": {
          "base_uri": "https://localhost:8080/"
        }
      },
      "outputs": [
        {
          "output_type": "execute_result",
          "data": {
            "text/plain": [
              "<tf.Tensor: shape=(28709, 2304), dtype=float32, numpy=\n",
              "array([[ 70.,  80.,  82., ..., 106., 109.,  82.],\n",
              "       [151., 150., 147., ..., 193., 183., 184.],\n",
              "       [231., 212., 156., ...,  88., 110., 152.],\n",
              "       ...,\n",
              "       [ 74.,  81.,  87., ..., 188., 187., 187.],\n",
              "       [222., 227., 203., ..., 136., 136., 134.],\n",
              "       [195., 199., 205., ...,   6.,  15.,  38.]], dtype=float32)>"
            ]
          },
          "metadata": {},
          "execution_count": 15
        }
      ],
      "source": [
        "train_inputs"
      ]
    },
    {
      "cell_type": "code",
      "execution_count": null,
      "id": "224d20a5-ae5b-4675-a38e-3110b8561df2",
      "metadata": {
        "id": "224d20a5-ae5b-4675-a38e-3110b8561df2"
      },
      "outputs": [],
      "source": [
        "test_inputs = tf.convert_to_tensor(X_test)\n",
        "#test_inputs = tf.reshape(test_inputs,input_shape)\n",
        "test_outputs = tf.convert_to_tensor(y_test)"
      ]
    },
    {
      "cell_type": "code",
      "execution_count": null,
      "id": "3548dfad-d6cb-4a16-bd08-60dfd225dc88",
      "metadata": {
        "id": "3548dfad-d6cb-4a16-bd08-60dfd225dc88"
      },
      "outputs": [],
      "source": [
        "import sys\n",
        "\n",
        "#Append the path to DL models\n",
        "sys.path.insert(0,'../models/')"
      ]
    },
    {
      "cell_type": "code",
      "execution_count": null,
      "id": "083b2012-bac0-409f-86a5-8d054300d538",
      "metadata": {
        "id": "083b2012-bac0-409f-86a5-8d054300d538"
      },
      "outputs": [],
      "source": [
        "%load_ext autoreload\n",
        "%autoreload 2"
      ]
    },
    {
      "cell_type": "code",
      "execution_count": null,
      "id": "c5593636-5b0f-495e-93a5-9f521aa9b2c0",
      "metadata": {
        "id": "c5593636-5b0f-495e-93a5-9f521aa9b2c0",
        "outputId": "c7bdef2b-09a8-4424-9dbe-1fe5228411b1"
      },
      "outputs": [
        {
          "data": {
            "text/plain": [
              "<CNN_v2.CNNV2 at 0x1b688cbfd30>"
            ]
          },
          "execution_count": 18,
          "metadata": {},
          "output_type": "execute_result"
        }
      ],
      "source": [
        "# Model 1 : Basic CNN\n",
        "\n",
        "from CNN_v2 import CNNV2\n",
        "\n",
        "cnn = CNNV2(48,7)\n",
        "cnn"
      ]
    },
    {
      "cell_type": "code",
      "execution_count": null,
      "id": "6a405f45-29da-4bde-a573-8757641b9116",
      "metadata": {
        "id": "6a405f45-29da-4bde-a573-8757641b9116"
      },
      "outputs": [],
      "source": [
        "cnn.compile(optimizer=tf.keras.optimizers.Adam(learning_rate=1e-5),\n",
        "              loss=\"categorical_crossentropy\",\n",
        "              metrics=['accuracy'])"
      ]
    },
    {
      "cell_type": "code",
      "execution_count": null,
      "id": "8579473d-64c2-420a-a796-e5fff9cb5044",
      "metadata": {
        "id": "8579473d-64c2-420a-a796-e5fff9cb5044",
        "outputId": "1501abe2-c506-42e6-8652-e2fd7040ed63"
      },
      "outputs": [
        {
          "name": "stdout",
          "output_type": "stream",
          "text": [
            "Epoch 1/10\n",
            "113/113 [==============================] - 58s 504ms/step - loss: 1.8335 - accuracy: 0.2452 - val_loss: 1.8044 - val_accuracy: 0.2494\n",
            "Epoch 2/10\n",
            "113/113 [==============================] - 66s 587ms/step - loss: 1.7956 - accuracy: 0.2559 - val_loss: 1.7807 - val_accuracy: 0.2680\n",
            "Epoch 3/10\n",
            "113/113 [==============================] - 71s 630ms/step - loss: 1.7699 - accuracy: 0.2745 - val_loss: 1.7483 - val_accuracy: 0.2862\n",
            "Epoch 4/10\n",
            "113/113 [==============================] - 72s 639ms/step - loss: 1.7376 - accuracy: 0.3039 - val_loss: 1.7196 - val_accuracy: 0.3324\n",
            "Epoch 5/10\n",
            "113/113 [==============================] - 78s 694ms/step - loss: 1.7048 - accuracy: 0.3323 - val_loss: 1.6835 - val_accuracy: 0.3558\n",
            "Epoch 6/10\n",
            "113/113 [==============================] - 89s 791ms/step - loss: 1.6728 - accuracy: 0.3550 - val_loss: 1.6520 - val_accuracy: 0.3736\n",
            "Epoch 7/10\n",
            "113/113 [==============================] - 88s 777ms/step - loss: 1.6449 - accuracy: 0.3719 - val_loss: 1.6295 - val_accuracy: 0.3842\n",
            "Epoch 8/10\n",
            "113/113 [==============================] - 91s 804ms/step - loss: 1.6255 - accuracy: 0.3805 - val_loss: 1.6100 - val_accuracy: 0.3898\n",
            "Epoch 9/10\n",
            "113/113 [==============================] - 89s 789ms/step - loss: 1.6096 - accuracy: 0.3877 - val_loss: 1.5963 - val_accuracy: 0.3929\n",
            "Epoch 10/10\n",
            "113/113 [==============================] - 77s 686ms/step - loss: 1.5956 - accuracy: 0.3957 - val_loss: 1.5860 - val_accuracy: 0.4043\n",
            "CPU times: total: 1h 17min 41s\n",
            "Wall time: 13min\n"
          ]
        }
      ],
      "source": [
        "%%time\n",
        "\n",
        "history = cnn.fit(train_inputs,train_outputs,\n",
        "                  batch_size=batch_size, epochs=10,\n",
        "                  validation_data=(test_inputs, test_outputs))"
      ]
    },
    {
      "cell_type": "code",
      "execution_count": null,
      "id": "80630047-e880-4403-91be-f13ba31e24b9",
      "metadata": {
        "id": "80630047-e880-4403-91be-f13ba31e24b9"
      },
      "outputs": [],
      "source": [
        "# Model 2 : SqueezeNet\n",
        "\n",
        "IMAGE_SIZE = [48,48]\n",
        "\n",
        "bnmomemtum=0.9\n",
        "def fire(x, squeeze, expand):\n",
        "  y  = tf.keras.layers.Conv2D(filters=squeeze, kernel_size=1, activation='relu', padding='same')(x)\n",
        "  y = tf.keras.layers.BatchNormalization(momentum=bnmomemtum)(y)\n",
        "  y1 = tf.keras.layers.Conv2D(filters=expand//2, kernel_size=1, activation='relu', padding='same')(y)\n",
        "  y1 = tf.keras.layers.BatchNormalization(momentum=bnmomemtum)(y1)\n",
        "  y3 = tf.keras.layers.Conv2D(filters=expand//2, kernel_size=3, activation='relu', padding='same')(y)\n",
        "  y3 = tf.keras.layers.BatchNormalization(momentum=bnmomemtum)(y3)\n",
        "  return tf.keras.layers.concatenate([y1, y3])\n",
        "\n",
        "def fire_module(squeeze, expand):\n",
        "  return lambda x: fire(x, squeeze, expand)\n",
        "\n",
        "x = tf.keras.layers.Input(shape=[*IMAGE_SIZE, 1]) # input is 192x192 pixels RGB\n",
        "\n",
        "y = tf.keras.layers.Conv2D(kernel_size=3, filters=32, padding='same', use_bias=True, activation='relu')(x)\n",
        "y = tf.keras.layers.BatchNormalization(momentum=bnmomemtum)(y)\n",
        "y = fire_module(24, 48)(y)\n",
        "y = tf.keras.layers.MaxPooling2D(pool_size=2)(y)\n",
        "y = fire_module(48, 96)(y)\n",
        "y = tf.keras.layers.MaxPooling2D(pool_size=2)(y)\n",
        "y = fire_module(64, 128)(y)\n",
        "y = tf.keras.layers.MaxPooling2D(pool_size=2)(y)\n",
        "y = fire_module(48, 96)(y)\n",
        "y = tf.keras.layers.MaxPooling2D(pool_size=2)(y)\n",
        "y = fire_module(24, 48)(y)\n",
        "y = tf.keras.layers.GlobalAveragePooling2D()(y)\n",
        "y = tf.keras.layers.Dense(7, activation='softmax')(y)\n",
        "\n",
        "model = tf.keras.Model(x, y)"
      ]
    },
    {
      "cell_type": "code",
      "source": [
        "model.summary()"
      ],
      "metadata": {
        "colab": {
          "base_uri": "https://localhost:8080/"
        },
        "id": "8gWR-j5Qf9Rk",
        "outputId": "8a22ccaa-ecbc-47fb-b2e4-2c2f03e96c0b"
      },
      "id": "8gWR-j5Qf9Rk",
      "execution_count": null,
      "outputs": [
        {
          "output_type": "stream",
          "name": "stdout",
          "text": [
            "Model: \"model_1\"\n",
            "__________________________________________________________________________________________________\n",
            " Layer (type)                   Output Shape         Param #     Connected to                     \n",
            "==================================================================================================\n",
            " input_2 (InputLayer)           [(None, 48, 48, 1)]  0           []                               \n",
            "                                                                                                  \n",
            " conv2d_16 (Conv2D)             (None, 48, 48, 32)   320         ['input_2[0][0]']                \n",
            "                                                                                                  \n",
            " batch_normalization_16 (BatchN  (None, 48, 48, 32)  128         ['conv2d_16[0][0]']              \n",
            " ormalization)                                                                                    \n",
            "                                                                                                  \n",
            " conv2d_17 (Conv2D)             (None, 48, 48, 24)   792         ['batch_normalization_16[0][0]'] \n",
            "                                                                                                  \n",
            " batch_normalization_17 (BatchN  (None, 48, 48, 24)  96          ['conv2d_17[0][0]']              \n",
            " ormalization)                                                                                    \n",
            "                                                                                                  \n",
            " conv2d_18 (Conv2D)             (None, 48, 48, 24)   600         ['batch_normalization_17[0][0]'] \n",
            "                                                                                                  \n",
            " conv2d_19 (Conv2D)             (None, 48, 48, 24)   5208        ['batch_normalization_17[0][0]'] \n",
            "                                                                                                  \n",
            " batch_normalization_18 (BatchN  (None, 48, 48, 24)  96          ['conv2d_18[0][0]']              \n",
            " ormalization)                                                                                    \n",
            "                                                                                                  \n",
            " batch_normalization_19 (BatchN  (None, 48, 48, 24)  96          ['conv2d_19[0][0]']              \n",
            " ormalization)                                                                                    \n",
            "                                                                                                  \n",
            " concatenate_5 (Concatenate)    (None, 48, 48, 48)   0           ['batch_normalization_18[0][0]', \n",
            "                                                                  'batch_normalization_19[0][0]'] \n",
            "                                                                                                  \n",
            " max_pooling2d_4 (MaxPooling2D)  (None, 24, 24, 48)  0           ['concatenate_5[0][0]']          \n",
            "                                                                                                  \n",
            " conv2d_20 (Conv2D)             (None, 24, 24, 48)   2352        ['max_pooling2d_4[0][0]']        \n",
            "                                                                                                  \n",
            " batch_normalization_20 (BatchN  (None, 24, 24, 48)  192         ['conv2d_20[0][0]']              \n",
            " ormalization)                                                                                    \n",
            "                                                                                                  \n",
            " conv2d_21 (Conv2D)             (None, 24, 24, 48)   2352        ['batch_normalization_20[0][0]'] \n",
            "                                                                                                  \n",
            " conv2d_22 (Conv2D)             (None, 24, 24, 48)   20784       ['batch_normalization_20[0][0]'] \n",
            "                                                                                                  \n",
            " batch_normalization_21 (BatchN  (None, 24, 24, 48)  192         ['conv2d_21[0][0]']              \n",
            " ormalization)                                                                                    \n",
            "                                                                                                  \n",
            " batch_normalization_22 (BatchN  (None, 24, 24, 48)  192         ['conv2d_22[0][0]']              \n",
            " ormalization)                                                                                    \n",
            "                                                                                                  \n",
            " concatenate_6 (Concatenate)    (None, 24, 24, 96)   0           ['batch_normalization_21[0][0]', \n",
            "                                                                  'batch_normalization_22[0][0]'] \n",
            "                                                                                                  \n",
            " max_pooling2d_5 (MaxPooling2D)  (None, 12, 12, 96)  0           ['concatenate_6[0][0]']          \n",
            "                                                                                                  \n",
            " conv2d_23 (Conv2D)             (None, 12, 12, 64)   6208        ['max_pooling2d_5[0][0]']        \n",
            "                                                                                                  \n",
            " batch_normalization_23 (BatchN  (None, 12, 12, 64)  256         ['conv2d_23[0][0]']              \n",
            " ormalization)                                                                                    \n",
            "                                                                                                  \n",
            " conv2d_24 (Conv2D)             (None, 12, 12, 64)   4160        ['batch_normalization_23[0][0]'] \n",
            "                                                                                                  \n",
            " conv2d_25 (Conv2D)             (None, 12, 12, 64)   36928       ['batch_normalization_23[0][0]'] \n",
            "                                                                                                  \n",
            " batch_normalization_24 (BatchN  (None, 12, 12, 64)  256         ['conv2d_24[0][0]']              \n",
            " ormalization)                                                                                    \n",
            "                                                                                                  \n",
            " batch_normalization_25 (BatchN  (None, 12, 12, 64)  256         ['conv2d_25[0][0]']              \n",
            " ormalization)                                                                                    \n",
            "                                                                                                  \n",
            " concatenate_7 (Concatenate)    (None, 12, 12, 128)  0           ['batch_normalization_24[0][0]', \n",
            "                                                                  'batch_normalization_25[0][0]'] \n",
            "                                                                                                  \n",
            " max_pooling2d_6 (MaxPooling2D)  (None, 6, 6, 128)   0           ['concatenate_7[0][0]']          \n",
            "                                                                                                  \n",
            " conv2d_26 (Conv2D)             (None, 6, 6, 48)     6192        ['max_pooling2d_6[0][0]']        \n",
            "                                                                                                  \n",
            " batch_normalization_26 (BatchN  (None, 6, 6, 48)    192         ['conv2d_26[0][0]']              \n",
            " ormalization)                                                                                    \n",
            "                                                                                                  \n",
            " conv2d_27 (Conv2D)             (None, 6, 6, 48)     2352        ['batch_normalization_26[0][0]'] \n",
            "                                                                                                  \n",
            " conv2d_28 (Conv2D)             (None, 6, 6, 48)     20784       ['batch_normalization_26[0][0]'] \n",
            "                                                                                                  \n",
            " batch_normalization_27 (BatchN  (None, 6, 6, 48)    192         ['conv2d_27[0][0]']              \n",
            " ormalization)                                                                                    \n",
            "                                                                                                  \n",
            " batch_normalization_28 (BatchN  (None, 6, 6, 48)    192         ['conv2d_28[0][0]']              \n",
            " ormalization)                                                                                    \n",
            "                                                                                                  \n",
            " concatenate_8 (Concatenate)    (None, 6, 6, 96)     0           ['batch_normalization_27[0][0]', \n",
            "                                                                  'batch_normalization_28[0][0]'] \n",
            "                                                                                                  \n",
            " max_pooling2d_7 (MaxPooling2D)  (None, 3, 3, 96)    0           ['concatenate_8[0][0]']          \n",
            "                                                                                                  \n",
            " conv2d_29 (Conv2D)             (None, 3, 3, 24)     2328        ['max_pooling2d_7[0][0]']        \n",
            "                                                                                                  \n",
            " batch_normalization_29 (BatchN  (None, 3, 3, 24)    96          ['conv2d_29[0][0]']              \n",
            " ormalization)                                                                                    \n",
            "                                                                                                  \n",
            " conv2d_30 (Conv2D)             (None, 3, 3, 24)     600         ['batch_normalization_29[0][0]'] \n",
            "                                                                                                  \n",
            " conv2d_31 (Conv2D)             (None, 3, 3, 24)     5208        ['batch_normalization_29[0][0]'] \n",
            "                                                                                                  \n",
            " batch_normalization_30 (BatchN  (None, 3, 3, 24)    96          ['conv2d_30[0][0]']              \n",
            " ormalization)                                                                                    \n",
            "                                                                                                  \n",
            " batch_normalization_31 (BatchN  (None, 3, 3, 24)    96          ['conv2d_31[0][0]']              \n",
            " ormalization)                                                                                    \n",
            "                                                                                                  \n",
            " concatenate_9 (Concatenate)    (None, 3, 3, 48)     0           ['batch_normalization_30[0][0]', \n",
            "                                                                  'batch_normalization_31[0][0]'] \n",
            "                                                                                                  \n",
            " global_average_pooling2d_1 (Gl  (None, 48)          0           ['concatenate_9[0][0]']          \n",
            " obalAveragePooling2D)                                                                            \n",
            "                                                                                                  \n",
            " dense_1 (Dense)                (None, 7)            343         ['global_average_pooling2d_1[0][0\n",
            "                                                                 ]']                              \n",
            "                                                                                                  \n",
            "==================================================================================================\n",
            "Total params: 120,135\n",
            "Trainable params: 118,823\n",
            "Non-trainable params: 1,312\n",
            "__________________________________________________________________________________________________\n"
          ]
        }
      ]
    },
    {
      "cell_type": "code",
      "source": [
        "from keras.callbacks import ReduceLROnPlateau, EarlyStopping\n",
        "\n",
        "callbacks = [ ReduceLROnPlateau(monitor='val_loss', patience=5, cooldown=0)]"
      ],
      "metadata": {
        "id": "EH5g-VhMgue5"
      },
      "id": "EH5g-VhMgue5",
      "execution_count": null,
      "outputs": []
    },
    {
      "cell_type": "code",
      "source": [
        "EPOCHS = 50"
      ],
      "metadata": {
        "id": "7lNwG6o4g7Yx"
      },
      "id": "7lNwG6o4g7Yx",
      "execution_count": null,
      "outputs": []
    },
    {
      "cell_type": "code",
      "source": [
        "model.compile(\n",
        "    optimizer='adam',\n",
        "    loss= 'categorical_crossentropy',\n",
        "    metrics=['accuracy'])"
      ],
      "metadata": {
        "id": "ES3IlkRFhGxR"
      },
      "id": "ES3IlkRFhGxR",
      "execution_count": null,
      "outputs": []
    },
    {
      "cell_type": "code",
      "source": [
        "input_shape = [-1,48,48,1]"
      ],
      "metadata": {
        "id": "-4DKOSU7hnjh"
      },
      "id": "-4DKOSU7hnjh",
      "execution_count": null,
      "outputs": []
    },
    {
      "cell_type": "code",
      "source": [
        "train_inputs = tf.reshape(train_inputs,input_shape)"
      ],
      "metadata": {
        "id": "fuFmaebWhSQ2"
      },
      "id": "fuFmaebWhSQ2",
      "execution_count": null,
      "outputs": []
    },
    {
      "cell_type": "code",
      "source": [
        "test_inputs = tf.reshape(test_inputs,input_shape)"
      ],
      "metadata": {
        "id": "ee9RULAlh2aU"
      },
      "id": "ee9RULAlh2aU",
      "execution_count": null,
      "outputs": []
    },
    {
      "cell_type": "code",
      "source": [
        "%%time\n",
        "\n",
        "history = model.fit(train_inputs,train_outputs,\n",
        "                  batch_size=batch_size, epochs=EPOCHS,\n",
        "                  validation_data=(test_inputs, test_outputs),\n",
        "                  callbacks = callbacks)\n"
      ],
      "metadata": {
        "colab": {
          "base_uri": "https://localhost:8080/",
          "height": 1000
        },
        "id": "8womlVSegQrH",
        "outputId": "e0fa6ae5-a75b-4a4c-d60e-75a1f0bc8418"
      },
      "id": "8womlVSegQrH",
      "execution_count": null,
      "outputs": [
        {
          "output_type": "stream",
          "name": "stdout",
          "text": [
            "Epoch 1/50\n",
            "113/113 [==============================] - 415s 4s/step - loss: 1.7666 - accuracy: 0.3089 - val_loss: 2.0355 - val_accuracy: 0.2909 - lr: 0.0010\n",
            "Epoch 2/50\n",
            "113/113 [==============================] - 415s 4s/step - loss: 1.4580 - accuracy: 0.4418 - val_loss: 1.6519 - val_accuracy: 0.3697 - lr: 0.0010\n",
            "Epoch 3/50\n",
            "113/113 [==============================] - 409s 4s/step - loss: 1.3010 - accuracy: 0.5055 - val_loss: 1.4497 - val_accuracy: 0.4528 - lr: 0.0010\n",
            "Epoch 4/50\n",
            "113/113 [==============================] - 412s 4s/step - loss: 1.1993 - accuracy: 0.5471 - val_loss: 1.3326 - val_accuracy: 0.5001 - lr: 0.0010\n",
            "Epoch 5/50\n",
            "113/113 [==============================] - 410s 4s/step - loss: 1.1217 - accuracy: 0.5754 - val_loss: 1.4148 - val_accuracy: 0.4798 - lr: 0.0010\n",
            "Epoch 6/50\n",
            "113/113 [==============================] - 406s 4s/step - loss: 1.0489 - accuracy: 0.6058 - val_loss: 1.2884 - val_accuracy: 0.5093 - lr: 0.0010\n",
            "Epoch 7/50\n",
            "113/113 [==============================] - 407s 4s/step - loss: 0.9841 - accuracy: 0.6327 - val_loss: 1.3366 - val_accuracy: 0.5049 - lr: 0.0010\n",
            "Epoch 8/50\n",
            "113/113 [==============================] - 406s 4s/step - loss: 0.9164 - accuracy: 0.6586 - val_loss: 1.4358 - val_accuracy: 0.4893 - lr: 0.0010\n",
            "Epoch 9/50\n",
            "113/113 [==============================] - 404s 4s/step - loss: 0.8622 - accuracy: 0.6824 - val_loss: 1.3755 - val_accuracy: 0.5052 - lr: 0.0010\n",
            "Epoch 10/50\n",
            "113/113 [==============================] - 407s 4s/step - loss: 0.7947 - accuracy: 0.7074 - val_loss: 1.4070 - val_accuracy: 0.5224 - lr: 0.0010\n",
            "Epoch 11/50\n",
            "113/113 [==============================] - 412s 4s/step - loss: 0.7457 - accuracy: 0.7242 - val_loss: 1.3864 - val_accuracy: 0.5261 - lr: 0.0010\n",
            "Epoch 12/50\n",
            "113/113 [==============================] - 407s 4s/step - loss: 0.5508 - accuracy: 0.8120 - val_loss: 1.3191 - val_accuracy: 0.5536 - lr: 1.0000e-04\n",
            "Epoch 13/50\n",
            "113/113 [==============================] - 404s 4s/step - loss: 0.4746 - accuracy: 0.8478 - val_loss: 1.3558 - val_accuracy: 0.5542 - lr: 1.0000e-04\n",
            "Epoch 14/50\n",
            "113/113 [==============================] - 405s 4s/step - loss: 0.4357 - accuracy: 0.8640 - val_loss: 1.3831 - val_accuracy: 0.5536 - lr: 1.0000e-04\n",
            "Epoch 15/50\n",
            "113/113 [==============================] - 403s 4s/step - loss: 0.4038 - accuracy: 0.8755 - val_loss: 1.4308 - val_accuracy: 0.5442 - lr: 1.0000e-04\n",
            "Epoch 16/50\n",
            "113/113 [==============================] - 404s 4s/step - loss: 0.3778 - accuracy: 0.8854 - val_loss: 1.4589 - val_accuracy: 0.5458 - lr: 1.0000e-04\n",
            "Epoch 17/50\n",
            "113/113 [==============================] - 406s 4s/step - loss: 0.3419 - accuracy: 0.9043 - val_loss: 1.4621 - val_accuracy: 0.5478 - lr: 1.0000e-05\n",
            "Epoch 18/50\n",
            " 29/113 [======>.......................] - ETA: 4:55 - loss: 0.3308 - accuracy: 0.9060"
          ]
        },
        {
          "output_type": "error",
          "ename": "KeyboardInterrupt",
          "evalue": "ignored",
          "traceback": [
            "\u001b[0;31m---------------------------------------------------------------------------\u001b[0m",
            "\u001b[0;31mKeyboardInterrupt\u001b[0m                         Traceback (most recent call last)",
            "\u001b[0;32m<ipython-input-31-54a01d1ead6f>\u001b[0m in \u001b[0;36m<module>\u001b[0;34m()\u001b[0m\n\u001b[0;32m----> 1\u001b[0;31m \u001b[0mget_ipython\u001b[0m\u001b[0;34m(\u001b[0m\u001b[0;34m)\u001b[0m\u001b[0;34m.\u001b[0m\u001b[0mrun_cell_magic\u001b[0m\u001b[0;34m(\u001b[0m\u001b[0;34m'time'\u001b[0m\u001b[0;34m,\u001b[0m \u001b[0;34m''\u001b[0m\u001b[0;34m,\u001b[0m \u001b[0;34m'\\nhistory = model.fit(train_inputs,train_outputs,\\n                  batch_size=batch_size, epochs=EPOCHS,\\n                  validation_data=(test_inputs, test_outputs),\\n                  callbacks = callbacks)'\u001b[0m\u001b[0;34m)\u001b[0m\u001b[0;34m\u001b[0m\u001b[0;34m\u001b[0m\u001b[0m\n\u001b[0m",
            "\u001b[0;32m/usr/local/lib/python3.7/dist-packages/IPython/core/interactiveshell.py\u001b[0m in \u001b[0;36mrun_cell_magic\u001b[0;34m(self, magic_name, line, cell)\u001b[0m\n\u001b[1;32m   2115\u001b[0m             \u001b[0mmagic_arg_s\u001b[0m \u001b[0;34m=\u001b[0m \u001b[0mself\u001b[0m\u001b[0;34m.\u001b[0m\u001b[0mvar_expand\u001b[0m\u001b[0;34m(\u001b[0m\u001b[0mline\u001b[0m\u001b[0;34m,\u001b[0m \u001b[0mstack_depth\u001b[0m\u001b[0;34m)\u001b[0m\u001b[0;34m\u001b[0m\u001b[0;34m\u001b[0m\u001b[0m\n\u001b[1;32m   2116\u001b[0m             \u001b[0;32mwith\u001b[0m \u001b[0mself\u001b[0m\u001b[0;34m.\u001b[0m\u001b[0mbuiltin_trap\u001b[0m\u001b[0;34m:\u001b[0m\u001b[0;34m\u001b[0m\u001b[0;34m\u001b[0m\u001b[0m\n\u001b[0;32m-> 2117\u001b[0;31m                 \u001b[0mresult\u001b[0m \u001b[0;34m=\u001b[0m \u001b[0mfn\u001b[0m\u001b[0;34m(\u001b[0m\u001b[0mmagic_arg_s\u001b[0m\u001b[0;34m,\u001b[0m \u001b[0mcell\u001b[0m\u001b[0;34m)\u001b[0m\u001b[0;34m\u001b[0m\u001b[0;34m\u001b[0m\u001b[0m\n\u001b[0m\u001b[1;32m   2118\u001b[0m             \u001b[0;32mreturn\u001b[0m \u001b[0mresult\u001b[0m\u001b[0;34m\u001b[0m\u001b[0;34m\u001b[0m\u001b[0m\n\u001b[1;32m   2119\u001b[0m \u001b[0;34m\u001b[0m\u001b[0m\n",
            "\u001b[0;32m<decorator-gen-53>\u001b[0m in \u001b[0;36mtime\u001b[0;34m(self, line, cell, local_ns)\u001b[0m\n",
            "\u001b[0;32m/usr/local/lib/python3.7/dist-packages/IPython/core/magic.py\u001b[0m in \u001b[0;36m<lambda>\u001b[0;34m(f, *a, **k)\u001b[0m\n\u001b[1;32m    186\u001b[0m     \u001b[0;31m# but it's overkill for just that one bit of state.\u001b[0m\u001b[0;34m\u001b[0m\u001b[0;34m\u001b[0m\u001b[0;34m\u001b[0m\u001b[0m\n\u001b[1;32m    187\u001b[0m     \u001b[0;32mdef\u001b[0m \u001b[0mmagic_deco\u001b[0m\u001b[0;34m(\u001b[0m\u001b[0marg\u001b[0m\u001b[0;34m)\u001b[0m\u001b[0;34m:\u001b[0m\u001b[0;34m\u001b[0m\u001b[0;34m\u001b[0m\u001b[0m\n\u001b[0;32m--> 188\u001b[0;31m         \u001b[0mcall\u001b[0m \u001b[0;34m=\u001b[0m \u001b[0;32mlambda\u001b[0m \u001b[0mf\u001b[0m\u001b[0;34m,\u001b[0m \u001b[0;34m*\u001b[0m\u001b[0ma\u001b[0m\u001b[0;34m,\u001b[0m \u001b[0;34m**\u001b[0m\u001b[0mk\u001b[0m\u001b[0;34m:\u001b[0m \u001b[0mf\u001b[0m\u001b[0;34m(\u001b[0m\u001b[0;34m*\u001b[0m\u001b[0ma\u001b[0m\u001b[0;34m,\u001b[0m \u001b[0;34m**\u001b[0m\u001b[0mk\u001b[0m\u001b[0;34m)\u001b[0m\u001b[0;34m\u001b[0m\u001b[0;34m\u001b[0m\u001b[0m\n\u001b[0m\u001b[1;32m    189\u001b[0m \u001b[0;34m\u001b[0m\u001b[0m\n\u001b[1;32m    190\u001b[0m         \u001b[0;32mif\u001b[0m \u001b[0mcallable\u001b[0m\u001b[0;34m(\u001b[0m\u001b[0marg\u001b[0m\u001b[0;34m)\u001b[0m\u001b[0;34m:\u001b[0m\u001b[0;34m\u001b[0m\u001b[0;34m\u001b[0m\u001b[0m\n",
            "\u001b[0;32m/usr/local/lib/python3.7/dist-packages/IPython/core/magics/execution.py\u001b[0m in \u001b[0;36mtime\u001b[0;34m(self, line, cell, local_ns)\u001b[0m\n\u001b[1;32m   1191\u001b[0m         \u001b[0;32melse\u001b[0m\u001b[0;34m:\u001b[0m\u001b[0;34m\u001b[0m\u001b[0;34m\u001b[0m\u001b[0m\n\u001b[1;32m   1192\u001b[0m             \u001b[0mst\u001b[0m \u001b[0;34m=\u001b[0m \u001b[0mclock2\u001b[0m\u001b[0;34m(\u001b[0m\u001b[0;34m)\u001b[0m\u001b[0;34m\u001b[0m\u001b[0;34m\u001b[0m\u001b[0m\n\u001b[0;32m-> 1193\u001b[0;31m             \u001b[0mexec\u001b[0m\u001b[0;34m(\u001b[0m\u001b[0mcode\u001b[0m\u001b[0;34m,\u001b[0m \u001b[0mglob\u001b[0m\u001b[0;34m,\u001b[0m \u001b[0mlocal_ns\u001b[0m\u001b[0;34m)\u001b[0m\u001b[0;34m\u001b[0m\u001b[0;34m\u001b[0m\u001b[0m\n\u001b[0m\u001b[1;32m   1194\u001b[0m             \u001b[0mend\u001b[0m \u001b[0;34m=\u001b[0m \u001b[0mclock2\u001b[0m\u001b[0;34m(\u001b[0m\u001b[0;34m)\u001b[0m\u001b[0;34m\u001b[0m\u001b[0;34m\u001b[0m\u001b[0m\n\u001b[1;32m   1195\u001b[0m             \u001b[0mout\u001b[0m \u001b[0;34m=\u001b[0m \u001b[0;32mNone\u001b[0m\u001b[0;34m\u001b[0m\u001b[0;34m\u001b[0m\u001b[0m\n",
            "\u001b[0;32m<timed exec>\u001b[0m in \u001b[0;36m<module>\u001b[0;34m()\u001b[0m\n",
            "\u001b[0;32m/usr/local/lib/python3.7/dist-packages/keras/utils/traceback_utils.py\u001b[0m in \u001b[0;36merror_handler\u001b[0;34m(*args, **kwargs)\u001b[0m\n\u001b[1;32m     62\u001b[0m     \u001b[0mfiltered_tb\u001b[0m \u001b[0;34m=\u001b[0m \u001b[0;32mNone\u001b[0m\u001b[0;34m\u001b[0m\u001b[0;34m\u001b[0m\u001b[0m\n\u001b[1;32m     63\u001b[0m     \u001b[0;32mtry\u001b[0m\u001b[0;34m:\u001b[0m\u001b[0;34m\u001b[0m\u001b[0;34m\u001b[0m\u001b[0m\n\u001b[0;32m---> 64\u001b[0;31m       \u001b[0;32mreturn\u001b[0m \u001b[0mfn\u001b[0m\u001b[0;34m(\u001b[0m\u001b[0;34m*\u001b[0m\u001b[0margs\u001b[0m\u001b[0;34m,\u001b[0m \u001b[0;34m**\u001b[0m\u001b[0mkwargs\u001b[0m\u001b[0;34m)\u001b[0m\u001b[0;34m\u001b[0m\u001b[0;34m\u001b[0m\u001b[0m\n\u001b[0m\u001b[1;32m     65\u001b[0m     \u001b[0;32mexcept\u001b[0m \u001b[0mException\u001b[0m \u001b[0;32mas\u001b[0m \u001b[0me\u001b[0m\u001b[0;34m:\u001b[0m  \u001b[0;31m# pylint: disable=broad-except\u001b[0m\u001b[0;34m\u001b[0m\u001b[0;34m\u001b[0m\u001b[0m\n\u001b[1;32m     66\u001b[0m       \u001b[0mfiltered_tb\u001b[0m \u001b[0;34m=\u001b[0m \u001b[0m_process_traceback_frames\u001b[0m\u001b[0;34m(\u001b[0m\u001b[0me\u001b[0m\u001b[0;34m.\u001b[0m\u001b[0m__traceback__\u001b[0m\u001b[0;34m)\u001b[0m\u001b[0;34m\u001b[0m\u001b[0;34m\u001b[0m\u001b[0m\n",
            "\u001b[0;32m/usr/local/lib/python3.7/dist-packages/keras/engine/training.py\u001b[0m in \u001b[0;36mfit\u001b[0;34m(self, x, y, batch_size, epochs, verbose, callbacks, validation_split, validation_data, shuffle, class_weight, sample_weight, initial_epoch, steps_per_epoch, validation_steps, validation_batch_size, validation_freq, max_queue_size, workers, use_multiprocessing)\u001b[0m\n\u001b[1;32m   1382\u001b[0m                 _r=1):\n\u001b[1;32m   1383\u001b[0m               \u001b[0mcallbacks\u001b[0m\u001b[0;34m.\u001b[0m\u001b[0mon_train_batch_begin\u001b[0m\u001b[0;34m(\u001b[0m\u001b[0mstep\u001b[0m\u001b[0;34m)\u001b[0m\u001b[0;34m\u001b[0m\u001b[0;34m\u001b[0m\u001b[0m\n\u001b[0;32m-> 1384\u001b[0;31m               \u001b[0mtmp_logs\u001b[0m \u001b[0;34m=\u001b[0m \u001b[0mself\u001b[0m\u001b[0;34m.\u001b[0m\u001b[0mtrain_function\u001b[0m\u001b[0;34m(\u001b[0m\u001b[0miterator\u001b[0m\u001b[0;34m)\u001b[0m\u001b[0;34m\u001b[0m\u001b[0;34m\u001b[0m\u001b[0m\n\u001b[0m\u001b[1;32m   1385\u001b[0m               \u001b[0;32mif\u001b[0m \u001b[0mdata_handler\u001b[0m\u001b[0;34m.\u001b[0m\u001b[0mshould_sync\u001b[0m\u001b[0;34m:\u001b[0m\u001b[0;34m\u001b[0m\u001b[0;34m\u001b[0m\u001b[0m\n\u001b[1;32m   1386\u001b[0m                 \u001b[0mcontext\u001b[0m\u001b[0;34m.\u001b[0m\u001b[0masync_wait\u001b[0m\u001b[0;34m(\u001b[0m\u001b[0;34m)\u001b[0m\u001b[0;34m\u001b[0m\u001b[0;34m\u001b[0m\u001b[0m\n",
            "\u001b[0;32m/usr/local/lib/python3.7/dist-packages/tensorflow/python/util/traceback_utils.py\u001b[0m in \u001b[0;36merror_handler\u001b[0;34m(*args, **kwargs)\u001b[0m\n\u001b[1;32m    148\u001b[0m     \u001b[0mfiltered_tb\u001b[0m \u001b[0;34m=\u001b[0m \u001b[0;32mNone\u001b[0m\u001b[0;34m\u001b[0m\u001b[0;34m\u001b[0m\u001b[0m\n\u001b[1;32m    149\u001b[0m     \u001b[0;32mtry\u001b[0m\u001b[0;34m:\u001b[0m\u001b[0;34m\u001b[0m\u001b[0;34m\u001b[0m\u001b[0m\n\u001b[0;32m--> 150\u001b[0;31m       \u001b[0;32mreturn\u001b[0m \u001b[0mfn\u001b[0m\u001b[0;34m(\u001b[0m\u001b[0;34m*\u001b[0m\u001b[0margs\u001b[0m\u001b[0;34m,\u001b[0m \u001b[0;34m**\u001b[0m\u001b[0mkwargs\u001b[0m\u001b[0;34m)\u001b[0m\u001b[0;34m\u001b[0m\u001b[0;34m\u001b[0m\u001b[0m\n\u001b[0m\u001b[1;32m    151\u001b[0m     \u001b[0;32mexcept\u001b[0m \u001b[0mException\u001b[0m \u001b[0;32mas\u001b[0m \u001b[0me\u001b[0m\u001b[0;34m:\u001b[0m\u001b[0;34m\u001b[0m\u001b[0;34m\u001b[0m\u001b[0m\n\u001b[1;32m    152\u001b[0m       \u001b[0mfiltered_tb\u001b[0m \u001b[0;34m=\u001b[0m \u001b[0m_process_traceback_frames\u001b[0m\u001b[0;34m(\u001b[0m\u001b[0me\u001b[0m\u001b[0;34m.\u001b[0m\u001b[0m__traceback__\u001b[0m\u001b[0;34m)\u001b[0m\u001b[0;34m\u001b[0m\u001b[0;34m\u001b[0m\u001b[0m\n",
            "\u001b[0;32m/usr/local/lib/python3.7/dist-packages/tensorflow/python/eager/def_function.py\u001b[0m in \u001b[0;36m__call__\u001b[0;34m(self, *args, **kwds)\u001b[0m\n\u001b[1;32m    913\u001b[0m \u001b[0;34m\u001b[0m\u001b[0m\n\u001b[1;32m    914\u001b[0m       \u001b[0;32mwith\u001b[0m \u001b[0mOptionalXlaContext\u001b[0m\u001b[0;34m(\u001b[0m\u001b[0mself\u001b[0m\u001b[0;34m.\u001b[0m\u001b[0m_jit_compile\u001b[0m\u001b[0;34m)\u001b[0m\u001b[0;34m:\u001b[0m\u001b[0;34m\u001b[0m\u001b[0;34m\u001b[0m\u001b[0m\n\u001b[0;32m--> 915\u001b[0;31m         \u001b[0mresult\u001b[0m \u001b[0;34m=\u001b[0m \u001b[0mself\u001b[0m\u001b[0;34m.\u001b[0m\u001b[0m_call\u001b[0m\u001b[0;34m(\u001b[0m\u001b[0;34m*\u001b[0m\u001b[0margs\u001b[0m\u001b[0;34m,\u001b[0m \u001b[0;34m**\u001b[0m\u001b[0mkwds\u001b[0m\u001b[0;34m)\u001b[0m\u001b[0;34m\u001b[0m\u001b[0;34m\u001b[0m\u001b[0m\n\u001b[0m\u001b[1;32m    916\u001b[0m \u001b[0;34m\u001b[0m\u001b[0m\n\u001b[1;32m    917\u001b[0m       \u001b[0mnew_tracing_count\u001b[0m \u001b[0;34m=\u001b[0m \u001b[0mself\u001b[0m\u001b[0;34m.\u001b[0m\u001b[0mexperimental_get_tracing_count\u001b[0m\u001b[0;34m(\u001b[0m\u001b[0;34m)\u001b[0m\u001b[0;34m\u001b[0m\u001b[0;34m\u001b[0m\u001b[0m\n",
            "\u001b[0;32m/usr/local/lib/python3.7/dist-packages/tensorflow/python/eager/def_function.py\u001b[0m in \u001b[0;36m_call\u001b[0;34m(self, *args, **kwds)\u001b[0m\n\u001b[1;32m    945\u001b[0m       \u001b[0;31m# In this case we have created variables on the first call, so we run the\u001b[0m\u001b[0;34m\u001b[0m\u001b[0;34m\u001b[0m\u001b[0;34m\u001b[0m\u001b[0m\n\u001b[1;32m    946\u001b[0m       \u001b[0;31m# defunned version which is guaranteed to never create variables.\u001b[0m\u001b[0;34m\u001b[0m\u001b[0;34m\u001b[0m\u001b[0;34m\u001b[0m\u001b[0m\n\u001b[0;32m--> 947\u001b[0;31m       \u001b[0;32mreturn\u001b[0m \u001b[0mself\u001b[0m\u001b[0;34m.\u001b[0m\u001b[0m_stateless_fn\u001b[0m\u001b[0;34m(\u001b[0m\u001b[0;34m*\u001b[0m\u001b[0margs\u001b[0m\u001b[0;34m,\u001b[0m \u001b[0;34m**\u001b[0m\u001b[0mkwds\u001b[0m\u001b[0;34m)\u001b[0m  \u001b[0;31m# pylint: disable=not-callable\u001b[0m\u001b[0;34m\u001b[0m\u001b[0;34m\u001b[0m\u001b[0m\n\u001b[0m\u001b[1;32m    948\u001b[0m     \u001b[0;32melif\u001b[0m \u001b[0mself\u001b[0m\u001b[0;34m.\u001b[0m\u001b[0m_stateful_fn\u001b[0m \u001b[0;32mis\u001b[0m \u001b[0;32mnot\u001b[0m \u001b[0;32mNone\u001b[0m\u001b[0;34m:\u001b[0m\u001b[0;34m\u001b[0m\u001b[0;34m\u001b[0m\u001b[0m\n\u001b[1;32m    949\u001b[0m       \u001b[0;31m# Release the lock early so that multiple threads can perform the call\u001b[0m\u001b[0;34m\u001b[0m\u001b[0;34m\u001b[0m\u001b[0;34m\u001b[0m\u001b[0m\n",
            "\u001b[0;32m/usr/local/lib/python3.7/dist-packages/tensorflow/python/eager/function.py\u001b[0m in \u001b[0;36m__call__\u001b[0;34m(self, *args, **kwargs)\u001b[0m\n\u001b[1;32m   2955\u001b[0m        filtered_flat_args) = self._maybe_define_function(args, kwargs)\n\u001b[1;32m   2956\u001b[0m     return graph_function._call_flat(\n\u001b[0;32m-> 2957\u001b[0;31m         filtered_flat_args, captured_inputs=graph_function.captured_inputs)  # pylint: disable=protected-access\n\u001b[0m\u001b[1;32m   2958\u001b[0m \u001b[0;34m\u001b[0m\u001b[0m\n\u001b[1;32m   2959\u001b[0m   \u001b[0;34m@\u001b[0m\u001b[0mproperty\u001b[0m\u001b[0;34m\u001b[0m\u001b[0;34m\u001b[0m\u001b[0m\n",
            "\u001b[0;32m/usr/local/lib/python3.7/dist-packages/tensorflow/python/eager/function.py\u001b[0m in \u001b[0;36m_call_flat\u001b[0;34m(self, args, captured_inputs, cancellation_manager)\u001b[0m\n\u001b[1;32m   1852\u001b[0m       \u001b[0;31m# No tape is watching; skip to running the function.\u001b[0m\u001b[0;34m\u001b[0m\u001b[0;34m\u001b[0m\u001b[0;34m\u001b[0m\u001b[0m\n\u001b[1;32m   1853\u001b[0m       return self._build_call_outputs(self._inference_function.call(\n\u001b[0;32m-> 1854\u001b[0;31m           ctx, args, cancellation_manager=cancellation_manager))\n\u001b[0m\u001b[1;32m   1855\u001b[0m     forward_backward = self._select_forward_and_backward_functions(\n\u001b[1;32m   1856\u001b[0m         \u001b[0margs\u001b[0m\u001b[0;34m,\u001b[0m\u001b[0;34m\u001b[0m\u001b[0;34m\u001b[0m\u001b[0m\n",
            "\u001b[0;32m/usr/local/lib/python3.7/dist-packages/tensorflow/python/eager/function.py\u001b[0m in \u001b[0;36mcall\u001b[0;34m(self, ctx, args, cancellation_manager)\u001b[0m\n\u001b[1;32m    502\u001b[0m               \u001b[0minputs\u001b[0m\u001b[0;34m=\u001b[0m\u001b[0margs\u001b[0m\u001b[0;34m,\u001b[0m\u001b[0;34m\u001b[0m\u001b[0;34m\u001b[0m\u001b[0m\n\u001b[1;32m    503\u001b[0m               \u001b[0mattrs\u001b[0m\u001b[0;34m=\u001b[0m\u001b[0mattrs\u001b[0m\u001b[0;34m,\u001b[0m\u001b[0;34m\u001b[0m\u001b[0;34m\u001b[0m\u001b[0m\n\u001b[0;32m--> 504\u001b[0;31m               ctx=ctx)\n\u001b[0m\u001b[1;32m    505\u001b[0m         \u001b[0;32melse\u001b[0m\u001b[0;34m:\u001b[0m\u001b[0;34m\u001b[0m\u001b[0;34m\u001b[0m\u001b[0m\n\u001b[1;32m    506\u001b[0m           outputs = execute.execute_with_cancellation(\n",
            "\u001b[0;32m/usr/local/lib/python3.7/dist-packages/tensorflow/python/eager/execute.py\u001b[0m in \u001b[0;36mquick_execute\u001b[0;34m(op_name, num_outputs, inputs, attrs, ctx, name)\u001b[0m\n\u001b[1;32m     53\u001b[0m     \u001b[0mctx\u001b[0m\u001b[0;34m.\u001b[0m\u001b[0mensure_initialized\u001b[0m\u001b[0;34m(\u001b[0m\u001b[0;34m)\u001b[0m\u001b[0;34m\u001b[0m\u001b[0;34m\u001b[0m\u001b[0m\n\u001b[1;32m     54\u001b[0m     tensors = pywrap_tfe.TFE_Py_Execute(ctx._handle, device_name, op_name,\n\u001b[0;32m---> 55\u001b[0;31m                                         inputs, attrs, num_outputs)\n\u001b[0m\u001b[1;32m     56\u001b[0m   \u001b[0;32mexcept\u001b[0m \u001b[0mcore\u001b[0m\u001b[0;34m.\u001b[0m\u001b[0m_NotOkStatusException\u001b[0m \u001b[0;32mas\u001b[0m \u001b[0me\u001b[0m\u001b[0;34m:\u001b[0m\u001b[0;34m\u001b[0m\u001b[0;34m\u001b[0m\u001b[0m\n\u001b[1;32m     57\u001b[0m     \u001b[0;32mif\u001b[0m \u001b[0mname\u001b[0m \u001b[0;32mis\u001b[0m \u001b[0;32mnot\u001b[0m \u001b[0;32mNone\u001b[0m\u001b[0;34m:\u001b[0m\u001b[0;34m\u001b[0m\u001b[0;34m\u001b[0m\u001b[0m\n",
            "\u001b[0;31mKeyboardInterrupt\u001b[0m: "
          ]
        }
      ]
    },
    {
      "cell_type": "code",
      "source": [
        "bnmomemtum=0.9\n",
        "def fire(x, squeeze, expand):\n",
        "  y  = tf.keras.layers.Conv2D(filters=squeeze, kernel_size=1, activation='relu', padding='same')(x)\n",
        "  y = tf.keras.layers.BatchNormalization(momentum=bnmomemtum)(y)\n",
        "  y1 = tf.keras.layers.Conv2D(filters=expand//2, kernel_size=1, activation='relu', padding='same')(y)\n",
        "  y1 = tf.keras.layers.BatchNormalization(momentum=bnmomemtum)(y1)\n",
        "  y3 = tf.keras.layers.Conv2D(filters=expand//2, kernel_size=3, activation='relu', padding='same')(y)\n",
        "  y3 = tf.keras.layers.BatchNormalization(momentum=bnmomemtum)(y3)\n",
        "  return tf.keras.layers.concatenate([y1, y3])\n",
        "\n",
        "def fire_module(squeeze, expand):\n",
        "  return lambda x: fire(x, squeeze, expand)"
      ],
      "metadata": {
        "id": "GFaOk5Q37jlB"
      },
      "id": "GFaOk5Q37jlB",
      "execution_count": null,
      "outputs": []
    },
    {
      "cell_type": "markdown",
      "source": [
        "The model clearly seems to be overfitting. One of the main reasons for overfitting is that your model is too complex for our problem. SO lets try reducing the fire modules in the squeezenet model and see if are getting any improvement."
      ],
      "metadata": {
        "id": "WY2PfCh_CJii"
      },
      "id": "WY2PfCh_CJii"
    },
    {
      "cell_type": "code",
      "source": [
        "IMAGE_SIZE = [48,48]\n",
        "x = tf.keras.layers.Input(shape=[*IMAGE_SIZE, 1]) # input is 48x48 pixels grayscale\n",
        "\n",
        "y = tf.keras.layers.Conv2D(kernel_size=3, filters=32, padding='same', use_bias=True, activation='relu')(x)\n",
        "y = tf.keras.layers.BatchNormalization(momentum=0.9)(y)\n",
        "y = tf.keras.layers.Dropout(0.2)(y)\n",
        "y = fire_module(24, 48)(y)\n",
        "y = tf.keras.layers.MaxPooling2D(pool_size=2)(y)\n",
        "y = fire_module(48, 96)(y)\n",
        "y = tf.keras.layers.MaxPooling2D(pool_size=2)(y)\n",
        "y = fire_module(48, 96)(y)\n",
        "y = tf.keras.layers.GlobalAveragePooling2D()(y)\n",
        "y = tf.keras.layers.Flatten()(y)\n",
        "y = tf.keras.layers.Dense(1024,activation=\"relu\")(y)\n",
        "y = tf.keras.layers.Dropout(0.3)(y)\n",
        "y = tf.keras.layers.BatchNormalization(momentum=0.9)(y)\n",
        "y = tf.keras.layers.Dense(7, activation='softmax')(y)\n",
        "\n",
        "model = tf.keras.Model(x, y)"
      ],
      "metadata": {
        "id": "bBsQaPkEhEnt"
      },
      "id": "bBsQaPkEhEnt",
      "execution_count": null,
      "outputs": []
    },
    {
      "cell_type": "code",
      "source": [
        "SGD_LEARNING_RATE = 0.01\n",
        "SGD_DECAY = 0.0001\n",
        "\n",
        "sgd = tf.keras.optimizers.SGD(learning_rate=SGD_LEARNING_RATE,momentum=0.9, decay=SGD_DECAY, nesterov=True)"
      ],
      "metadata": {
        "id": "mgHoKG7ap_pU"
      },
      "id": "mgHoKG7ap_pU",
      "execution_count": null,
      "outputs": []
    },
    {
      "cell_type": "code",
      "source": [
        "model.compile(\n",
        "    optimizer='adam',\n",
        "    loss= 'categorical_crossentropy',\n",
        "    metrics=['accuracy'])"
      ],
      "metadata": {
        "id": "YVjz9t0ACCbP"
      },
      "id": "YVjz9t0ACCbP",
      "execution_count": null,
      "outputs": []
    },
    {
      "cell_type": "code",
      "source": [
        "model.summary()"
      ],
      "metadata": {
        "colab": {
          "base_uri": "https://localhost:8080/"
        },
        "id": "vn0RQJSxHCbz",
        "outputId": "68031f34-bcba-46cd-c660-6305cc1edec4"
      },
      "id": "vn0RQJSxHCbz",
      "execution_count": null,
      "outputs": [
        {
          "output_type": "stream",
          "name": "stdout",
          "text": [
            "Model: \"model\"\n",
            "__________________________________________________________________________________________________\n",
            " Layer (type)                   Output Shape         Param #     Connected to                     \n",
            "==================================================================================================\n",
            " input_1 (InputLayer)           [(None, 48, 48, 1)]  0           []                               \n",
            "                                                                                                  \n",
            " conv2d (Conv2D)                (None, 48, 48, 32)   320         ['input_1[0][0]']                \n",
            "                                                                                                  \n",
            " batch_normalization (BatchNorm  (None, 48, 48, 32)  128         ['conv2d[0][0]']                 \n",
            " alization)                                                                                       \n",
            "                                                                                                  \n",
            " dropout (Dropout)              (None, 48, 48, 32)   0           ['batch_normalization[0][0]']    \n",
            "                                                                                                  \n",
            " conv2d_1 (Conv2D)              (None, 48, 48, 24)   792         ['dropout[0][0]']                \n",
            "                                                                                                  \n",
            " batch_normalization_1 (BatchNo  (None, 48, 48, 24)  96          ['conv2d_1[0][0]']               \n",
            " rmalization)                                                                                     \n",
            "                                                                                                  \n",
            " conv2d_2 (Conv2D)              (None, 48, 48, 24)   600         ['batch_normalization_1[0][0]']  \n",
            "                                                                                                  \n",
            " conv2d_3 (Conv2D)              (None, 48, 48, 24)   5208        ['batch_normalization_1[0][0]']  \n",
            "                                                                                                  \n",
            " batch_normalization_2 (BatchNo  (None, 48, 48, 24)  96          ['conv2d_2[0][0]']               \n",
            " rmalization)                                                                                     \n",
            "                                                                                                  \n",
            " batch_normalization_3 (BatchNo  (None, 48, 48, 24)  96          ['conv2d_3[0][0]']               \n",
            " rmalization)                                                                                     \n",
            "                                                                                                  \n",
            " concatenate (Concatenate)      (None, 48, 48, 48)   0           ['batch_normalization_2[0][0]',  \n",
            "                                                                  'batch_normalization_3[0][0]']  \n",
            "                                                                                                  \n",
            " max_pooling2d (MaxPooling2D)   (None, 24, 24, 48)   0           ['concatenate[0][0]']            \n",
            "                                                                                                  \n",
            " conv2d_4 (Conv2D)              (None, 24, 24, 48)   2352        ['max_pooling2d[0][0]']          \n",
            "                                                                                                  \n",
            " batch_normalization_4 (BatchNo  (None, 24, 24, 48)  192         ['conv2d_4[0][0]']               \n",
            " rmalization)                                                                                     \n",
            "                                                                                                  \n",
            " conv2d_5 (Conv2D)              (None, 24, 24, 48)   2352        ['batch_normalization_4[0][0]']  \n",
            "                                                                                                  \n",
            " conv2d_6 (Conv2D)              (None, 24, 24, 48)   20784       ['batch_normalization_4[0][0]']  \n",
            "                                                                                                  \n",
            " batch_normalization_5 (BatchNo  (None, 24, 24, 48)  192         ['conv2d_5[0][0]']               \n",
            " rmalization)                                                                                     \n",
            "                                                                                                  \n",
            " batch_normalization_6 (BatchNo  (None, 24, 24, 48)  192         ['conv2d_6[0][0]']               \n",
            " rmalization)                                                                                     \n",
            "                                                                                                  \n",
            " concatenate_1 (Concatenate)    (None, 24, 24, 96)   0           ['batch_normalization_5[0][0]',  \n",
            "                                                                  'batch_normalization_6[0][0]']  \n",
            "                                                                                                  \n",
            " max_pooling2d_1 (MaxPooling2D)  (None, 12, 12, 96)  0           ['concatenate_1[0][0]']          \n",
            "                                                                                                  \n",
            " conv2d_7 (Conv2D)              (None, 12, 12, 48)   4656        ['max_pooling2d_1[0][0]']        \n",
            "                                                                                                  \n",
            " batch_normalization_7 (BatchNo  (None, 12, 12, 48)  192         ['conv2d_7[0][0]']               \n",
            " rmalization)                                                                                     \n",
            "                                                                                                  \n",
            " conv2d_8 (Conv2D)              (None, 12, 12, 48)   2352        ['batch_normalization_7[0][0]']  \n",
            "                                                                                                  \n",
            " conv2d_9 (Conv2D)              (None, 12, 12, 48)   20784       ['batch_normalization_7[0][0]']  \n",
            "                                                                                                  \n",
            " batch_normalization_8 (BatchNo  (None, 12, 12, 48)  192         ['conv2d_8[0][0]']               \n",
            " rmalization)                                                                                     \n",
            "                                                                                                  \n",
            " batch_normalization_9 (BatchNo  (None, 12, 12, 48)  192         ['conv2d_9[0][0]']               \n",
            " rmalization)                                                                                     \n",
            "                                                                                                  \n",
            " concatenate_2 (Concatenate)    (None, 12, 12, 96)   0           ['batch_normalization_8[0][0]',  \n",
            "                                                                  'batch_normalization_9[0][0]']  \n",
            "                                                                                                  \n",
            " global_average_pooling2d (Glob  (None, 96)          0           ['concatenate_2[0][0]']          \n",
            " alAveragePooling2D)                                                                              \n",
            "                                                                                                  \n",
            " flatten (Flatten)              (None, 96)           0           ['global_average_pooling2d[0][0]'\n",
            "                                                                 ]                                \n",
            "                                                                                                  \n",
            " dense (Dense)                  (None, 1024)         99328       ['flatten[0][0]']                \n",
            "                                                                                                  \n",
            " dropout_1 (Dropout)            (None, 1024)         0           ['dense[0][0]']                  \n",
            "                                                                                                  \n",
            " batch_normalization_10 (BatchN  (None, 1024)        4096        ['dropout_1[0][0]']              \n",
            " ormalization)                                                                                    \n",
            "                                                                                                  \n",
            " dense_1 (Dense)                (None, 7)            7175        ['batch_normalization_10[0][0]'] \n",
            "                                                                                                  \n",
            "==================================================================================================\n",
            "Total params: 172,367\n",
            "Trainable params: 169,535\n",
            "Non-trainable params: 2,832\n",
            "__________________________________________________________________________________________________\n"
          ]
        }
      ]
    },
    {
      "cell_type": "code",
      "source": [
        "EPOCHS = 35\n",
        "BATCH_SIZE = 256"
      ],
      "metadata": {
        "id": "ANg-VxUICiso"
      },
      "id": "ANg-VxUICiso",
      "execution_count": null,
      "outputs": []
    },
    {
      "cell_type": "code",
      "source": [
        "train_datagen = tf.keras.preprocessing.image.ImageDataGenerator(rescale=1./255, shear_range=0.2,width_shift_range=0.1,\n",
        "                            height_shift_range=0.1, zoom_range=0.2, horizontal_flip=True)\n",
        "test_datagen = tf.keras.preprocessing.image.ImageDataGenerator(rescale = 1./255)"
      ],
      "metadata": {
        "id": "XBTnHFHZCzwU"
      },
      "id": "XBTnHFHZCzwU",
      "execution_count": null,
      "outputs": []
    },
    {
      "cell_type": "code",
      "source": [
        "train_datagen.flow(train_inputs,train_outputs,batch_size=32)"
      ],
      "metadata": {
        "colab": {
          "base_uri": "https://localhost:8080/"
        },
        "id": "YdjLuHyTi7BS",
        "outputId": "385fe86b-2dcc-4426-e112-ee15f244686a"
      },
      "id": "YdjLuHyTi7BS",
      "execution_count": null,
      "outputs": [
        {
          "output_type": "execute_result",
          "data": {
            "text/plain": [
              "<keras.preprocessing.image.NumpyArrayIterator at 0x7f86bdcd2950>"
            ]
          },
          "metadata": {},
          "execution_count": 23
        }
      ]
    },
    {
      "cell_type": "code",
      "source": [
        "train_generator = train_datagen.flow(train_inputs,train_outputs,batch_size=128)"
      ],
      "metadata": {
        "id": "m4b6_YzorHXc"
      },
      "id": "m4b6_YzorHXc",
      "execution_count": null,
      "outputs": []
    },
    {
      "cell_type": "code",
      "source": [
        "list(train_generator)"
      ],
      "metadata": {
        "id": "L-1ZjQ4czjsi"
      },
      "id": "L-1ZjQ4czjsi",
      "execution_count": null,
      "outputs": []
    },
    {
      "cell_type": "code",
      "source": [
        "test_generator = test_datagen.flow(test_inputs,test_outputs,batch_size=64)"
      ],
      "metadata": {
        "id": "rjIH9kyL8Bfj"
      },
      "id": "rjIH9kyL8Bfj",
      "execution_count": null,
      "outputs": []
    },
    {
      "cell_type": "code",
      "source": [
        "EPOCHS = 100"
      ],
      "metadata": {
        "id": "4cSXVfqDq9z_"
      },
      "id": "4cSXVfqDq9z_",
      "execution_count": null,
      "outputs": []
    },
    {
      "cell_type": "code",
      "source": [
        "%%time\n",
        "\n",
        "history = model.fit(train_generator,\n",
        "                  epochs=EPOCHS,\n",
        "                  validation_data=test_generator,\n",
        "                  callbacks = callbacks)"
      ],
      "metadata": {
        "colab": {
          "base_uri": "https://localhost:8080/",
          "height": 466
        },
        "id": "3vE-igLzznjI",
        "outputId": "937c91ab-ae52-494d-da72-152ff848243e"
      },
      "id": "3vE-igLzznjI",
      "execution_count": null,
      "outputs": [
        {
          "output_type": "stream",
          "name": "stdout",
          "text": [
            "Epoch 1/25\n",
            "225/225 [==============================] - 410s 2s/step - loss: 2.0288 - accuracy: 0.2309 - val_loss: 1.8392 - val_accuracy: 0.2591 - lr: 0.0010\n",
            "Epoch 2/25\n",
            " 86/225 [==========>...................] - ETA: 4:04 - loss: 1.8720 - accuracy: 0.2692"
          ]
        },
        {
          "output_type": "error",
          "ename": "KeyboardInterrupt",
          "evalue": "ignored",
          "traceback": [
            "\u001b[0;31m---------------------------------------------------------------------------\u001b[0m",
            "\u001b[0;31mKeyboardInterrupt\u001b[0m                         Traceback (most recent call last)",
            "\u001b[0;32m<ipython-input-25-5cb93fe74ef0>\u001b[0m in \u001b[0;36m<module>\u001b[0;34m()\u001b[0m\n\u001b[0;32m----> 1\u001b[0;31m \u001b[0mget_ipython\u001b[0m\u001b[0;34m(\u001b[0m\u001b[0;34m)\u001b[0m\u001b[0;34m.\u001b[0m\u001b[0mrun_cell_magic\u001b[0m\u001b[0;34m(\u001b[0m\u001b[0;34m'time'\u001b[0m\u001b[0;34m,\u001b[0m \u001b[0;34m''\u001b[0m\u001b[0;34m,\u001b[0m \u001b[0;34m'\\nhistory = model.fit(train_generator,\\n                  epochs=EPOCHS,\\n                  validation_data=test_generator,\\n                  callbacks = callbacks)'\u001b[0m\u001b[0;34m)\u001b[0m\u001b[0;34m\u001b[0m\u001b[0;34m\u001b[0m\u001b[0m\n\u001b[0m",
            "\u001b[0;32m/usr/local/lib/python3.7/dist-packages/IPython/core/interactiveshell.py\u001b[0m in \u001b[0;36mrun_cell_magic\u001b[0;34m(self, magic_name, line, cell)\u001b[0m\n\u001b[1;32m   2115\u001b[0m             \u001b[0mmagic_arg_s\u001b[0m \u001b[0;34m=\u001b[0m \u001b[0mself\u001b[0m\u001b[0;34m.\u001b[0m\u001b[0mvar_expand\u001b[0m\u001b[0;34m(\u001b[0m\u001b[0mline\u001b[0m\u001b[0;34m,\u001b[0m \u001b[0mstack_depth\u001b[0m\u001b[0;34m)\u001b[0m\u001b[0;34m\u001b[0m\u001b[0;34m\u001b[0m\u001b[0m\n\u001b[1;32m   2116\u001b[0m             \u001b[0;32mwith\u001b[0m \u001b[0mself\u001b[0m\u001b[0;34m.\u001b[0m\u001b[0mbuiltin_trap\u001b[0m\u001b[0;34m:\u001b[0m\u001b[0;34m\u001b[0m\u001b[0;34m\u001b[0m\u001b[0m\n\u001b[0;32m-> 2117\u001b[0;31m                 \u001b[0mresult\u001b[0m \u001b[0;34m=\u001b[0m \u001b[0mfn\u001b[0m\u001b[0;34m(\u001b[0m\u001b[0mmagic_arg_s\u001b[0m\u001b[0;34m,\u001b[0m \u001b[0mcell\u001b[0m\u001b[0;34m)\u001b[0m\u001b[0;34m\u001b[0m\u001b[0;34m\u001b[0m\u001b[0m\n\u001b[0m\u001b[1;32m   2118\u001b[0m             \u001b[0;32mreturn\u001b[0m \u001b[0mresult\u001b[0m\u001b[0;34m\u001b[0m\u001b[0;34m\u001b[0m\u001b[0m\n\u001b[1;32m   2119\u001b[0m \u001b[0;34m\u001b[0m\u001b[0m\n",
            "\u001b[0;32m<decorator-gen-53>\u001b[0m in \u001b[0;36mtime\u001b[0;34m(self, line, cell, local_ns)\u001b[0m\n",
            "\u001b[0;32m/usr/local/lib/python3.7/dist-packages/IPython/core/magic.py\u001b[0m in \u001b[0;36m<lambda>\u001b[0;34m(f, *a, **k)\u001b[0m\n\u001b[1;32m    186\u001b[0m     \u001b[0;31m# but it's overkill for just that one bit of state.\u001b[0m\u001b[0;34m\u001b[0m\u001b[0;34m\u001b[0m\u001b[0;34m\u001b[0m\u001b[0m\n\u001b[1;32m    187\u001b[0m     \u001b[0;32mdef\u001b[0m \u001b[0mmagic_deco\u001b[0m\u001b[0;34m(\u001b[0m\u001b[0marg\u001b[0m\u001b[0;34m)\u001b[0m\u001b[0;34m:\u001b[0m\u001b[0;34m\u001b[0m\u001b[0;34m\u001b[0m\u001b[0m\n\u001b[0;32m--> 188\u001b[0;31m         \u001b[0mcall\u001b[0m \u001b[0;34m=\u001b[0m \u001b[0;32mlambda\u001b[0m \u001b[0mf\u001b[0m\u001b[0;34m,\u001b[0m \u001b[0;34m*\u001b[0m\u001b[0ma\u001b[0m\u001b[0;34m,\u001b[0m \u001b[0;34m**\u001b[0m\u001b[0mk\u001b[0m\u001b[0;34m:\u001b[0m \u001b[0mf\u001b[0m\u001b[0;34m(\u001b[0m\u001b[0;34m*\u001b[0m\u001b[0ma\u001b[0m\u001b[0;34m,\u001b[0m \u001b[0;34m**\u001b[0m\u001b[0mk\u001b[0m\u001b[0;34m)\u001b[0m\u001b[0;34m\u001b[0m\u001b[0;34m\u001b[0m\u001b[0m\n\u001b[0m\u001b[1;32m    189\u001b[0m \u001b[0;34m\u001b[0m\u001b[0m\n\u001b[1;32m    190\u001b[0m         \u001b[0;32mif\u001b[0m \u001b[0mcallable\u001b[0m\u001b[0;34m(\u001b[0m\u001b[0marg\u001b[0m\u001b[0;34m)\u001b[0m\u001b[0;34m:\u001b[0m\u001b[0;34m\u001b[0m\u001b[0;34m\u001b[0m\u001b[0m\n",
            "\u001b[0;32m/usr/local/lib/python3.7/dist-packages/IPython/core/magics/execution.py\u001b[0m in \u001b[0;36mtime\u001b[0;34m(self, line, cell, local_ns)\u001b[0m\n\u001b[1;32m   1191\u001b[0m         \u001b[0;32melse\u001b[0m\u001b[0;34m:\u001b[0m\u001b[0;34m\u001b[0m\u001b[0;34m\u001b[0m\u001b[0m\n\u001b[1;32m   1192\u001b[0m             \u001b[0mst\u001b[0m \u001b[0;34m=\u001b[0m \u001b[0mclock2\u001b[0m\u001b[0;34m(\u001b[0m\u001b[0;34m)\u001b[0m\u001b[0;34m\u001b[0m\u001b[0;34m\u001b[0m\u001b[0m\n\u001b[0;32m-> 1193\u001b[0;31m             \u001b[0mexec\u001b[0m\u001b[0;34m(\u001b[0m\u001b[0mcode\u001b[0m\u001b[0;34m,\u001b[0m \u001b[0mglob\u001b[0m\u001b[0;34m,\u001b[0m \u001b[0mlocal_ns\u001b[0m\u001b[0;34m)\u001b[0m\u001b[0;34m\u001b[0m\u001b[0;34m\u001b[0m\u001b[0m\n\u001b[0m\u001b[1;32m   1194\u001b[0m             \u001b[0mend\u001b[0m \u001b[0;34m=\u001b[0m \u001b[0mclock2\u001b[0m\u001b[0;34m(\u001b[0m\u001b[0;34m)\u001b[0m\u001b[0;34m\u001b[0m\u001b[0;34m\u001b[0m\u001b[0m\n\u001b[1;32m   1195\u001b[0m             \u001b[0mout\u001b[0m \u001b[0;34m=\u001b[0m \u001b[0;32mNone\u001b[0m\u001b[0;34m\u001b[0m\u001b[0;34m\u001b[0m\u001b[0m\n",
            "\u001b[0;32m<timed exec>\u001b[0m in \u001b[0;36m<module>\u001b[0;34m()\u001b[0m\n",
            "\u001b[0;32m/usr/local/lib/python3.7/dist-packages/keras/utils/traceback_utils.py\u001b[0m in \u001b[0;36merror_handler\u001b[0;34m(*args, **kwargs)\u001b[0m\n\u001b[1;32m     62\u001b[0m     \u001b[0mfiltered_tb\u001b[0m \u001b[0;34m=\u001b[0m \u001b[0;32mNone\u001b[0m\u001b[0;34m\u001b[0m\u001b[0;34m\u001b[0m\u001b[0m\n\u001b[1;32m     63\u001b[0m     \u001b[0;32mtry\u001b[0m\u001b[0;34m:\u001b[0m\u001b[0;34m\u001b[0m\u001b[0;34m\u001b[0m\u001b[0m\n\u001b[0;32m---> 64\u001b[0;31m       \u001b[0;32mreturn\u001b[0m \u001b[0mfn\u001b[0m\u001b[0;34m(\u001b[0m\u001b[0;34m*\u001b[0m\u001b[0margs\u001b[0m\u001b[0;34m,\u001b[0m \u001b[0;34m**\u001b[0m\u001b[0mkwargs\u001b[0m\u001b[0;34m)\u001b[0m\u001b[0;34m\u001b[0m\u001b[0;34m\u001b[0m\u001b[0m\n\u001b[0m\u001b[1;32m     65\u001b[0m     \u001b[0;32mexcept\u001b[0m \u001b[0mException\u001b[0m \u001b[0;32mas\u001b[0m \u001b[0me\u001b[0m\u001b[0;34m:\u001b[0m  \u001b[0;31m# pylint: disable=broad-except\u001b[0m\u001b[0;34m\u001b[0m\u001b[0;34m\u001b[0m\u001b[0m\n\u001b[1;32m     66\u001b[0m       \u001b[0mfiltered_tb\u001b[0m \u001b[0;34m=\u001b[0m \u001b[0m_process_traceback_frames\u001b[0m\u001b[0;34m(\u001b[0m\u001b[0me\u001b[0m\u001b[0;34m.\u001b[0m\u001b[0m__traceback__\u001b[0m\u001b[0;34m)\u001b[0m\u001b[0;34m\u001b[0m\u001b[0;34m\u001b[0m\u001b[0m\n",
            "\u001b[0;32m/usr/local/lib/python3.7/dist-packages/keras/engine/training.py\u001b[0m in \u001b[0;36mfit\u001b[0;34m(self, x, y, batch_size, epochs, verbose, callbacks, validation_split, validation_data, shuffle, class_weight, sample_weight, initial_epoch, steps_per_epoch, validation_steps, validation_batch_size, validation_freq, max_queue_size, workers, use_multiprocessing)\u001b[0m\n\u001b[1;32m   1382\u001b[0m                 _r=1):\n\u001b[1;32m   1383\u001b[0m               \u001b[0mcallbacks\u001b[0m\u001b[0;34m.\u001b[0m\u001b[0mon_train_batch_begin\u001b[0m\u001b[0;34m(\u001b[0m\u001b[0mstep\u001b[0m\u001b[0;34m)\u001b[0m\u001b[0;34m\u001b[0m\u001b[0;34m\u001b[0m\u001b[0m\n\u001b[0;32m-> 1384\u001b[0;31m               \u001b[0mtmp_logs\u001b[0m \u001b[0;34m=\u001b[0m \u001b[0mself\u001b[0m\u001b[0;34m.\u001b[0m\u001b[0mtrain_function\u001b[0m\u001b[0;34m(\u001b[0m\u001b[0miterator\u001b[0m\u001b[0;34m)\u001b[0m\u001b[0;34m\u001b[0m\u001b[0;34m\u001b[0m\u001b[0m\n\u001b[0m\u001b[1;32m   1385\u001b[0m               \u001b[0;32mif\u001b[0m \u001b[0mdata_handler\u001b[0m\u001b[0;34m.\u001b[0m\u001b[0mshould_sync\u001b[0m\u001b[0;34m:\u001b[0m\u001b[0;34m\u001b[0m\u001b[0;34m\u001b[0m\u001b[0m\n\u001b[1;32m   1386\u001b[0m                 \u001b[0mcontext\u001b[0m\u001b[0;34m.\u001b[0m\u001b[0masync_wait\u001b[0m\u001b[0;34m(\u001b[0m\u001b[0;34m)\u001b[0m\u001b[0;34m\u001b[0m\u001b[0;34m\u001b[0m\u001b[0m\n",
            "\u001b[0;32m/usr/local/lib/python3.7/dist-packages/tensorflow/python/util/traceback_utils.py\u001b[0m in \u001b[0;36merror_handler\u001b[0;34m(*args, **kwargs)\u001b[0m\n\u001b[1;32m    148\u001b[0m     \u001b[0mfiltered_tb\u001b[0m \u001b[0;34m=\u001b[0m \u001b[0;32mNone\u001b[0m\u001b[0;34m\u001b[0m\u001b[0;34m\u001b[0m\u001b[0m\n\u001b[1;32m    149\u001b[0m     \u001b[0;32mtry\u001b[0m\u001b[0;34m:\u001b[0m\u001b[0;34m\u001b[0m\u001b[0;34m\u001b[0m\u001b[0m\n\u001b[0;32m--> 150\u001b[0;31m       \u001b[0;32mreturn\u001b[0m \u001b[0mfn\u001b[0m\u001b[0;34m(\u001b[0m\u001b[0;34m*\u001b[0m\u001b[0margs\u001b[0m\u001b[0;34m,\u001b[0m \u001b[0;34m**\u001b[0m\u001b[0mkwargs\u001b[0m\u001b[0;34m)\u001b[0m\u001b[0;34m\u001b[0m\u001b[0;34m\u001b[0m\u001b[0m\n\u001b[0m\u001b[1;32m    151\u001b[0m     \u001b[0;32mexcept\u001b[0m \u001b[0mException\u001b[0m \u001b[0;32mas\u001b[0m \u001b[0me\u001b[0m\u001b[0;34m:\u001b[0m\u001b[0;34m\u001b[0m\u001b[0;34m\u001b[0m\u001b[0m\n\u001b[1;32m    152\u001b[0m       \u001b[0mfiltered_tb\u001b[0m \u001b[0;34m=\u001b[0m \u001b[0m_process_traceback_frames\u001b[0m\u001b[0;34m(\u001b[0m\u001b[0me\u001b[0m\u001b[0;34m.\u001b[0m\u001b[0m__traceback__\u001b[0m\u001b[0;34m)\u001b[0m\u001b[0;34m\u001b[0m\u001b[0;34m\u001b[0m\u001b[0m\n",
            "\u001b[0;32m/usr/local/lib/python3.7/dist-packages/tensorflow/python/eager/def_function.py\u001b[0m in \u001b[0;36m__call__\u001b[0;34m(self, *args, **kwds)\u001b[0m\n\u001b[1;32m    913\u001b[0m \u001b[0;34m\u001b[0m\u001b[0m\n\u001b[1;32m    914\u001b[0m       \u001b[0;32mwith\u001b[0m \u001b[0mOptionalXlaContext\u001b[0m\u001b[0;34m(\u001b[0m\u001b[0mself\u001b[0m\u001b[0;34m.\u001b[0m\u001b[0m_jit_compile\u001b[0m\u001b[0;34m)\u001b[0m\u001b[0;34m:\u001b[0m\u001b[0;34m\u001b[0m\u001b[0;34m\u001b[0m\u001b[0m\n\u001b[0;32m--> 915\u001b[0;31m         \u001b[0mresult\u001b[0m \u001b[0;34m=\u001b[0m \u001b[0mself\u001b[0m\u001b[0;34m.\u001b[0m\u001b[0m_call\u001b[0m\u001b[0;34m(\u001b[0m\u001b[0;34m*\u001b[0m\u001b[0margs\u001b[0m\u001b[0;34m,\u001b[0m \u001b[0;34m**\u001b[0m\u001b[0mkwds\u001b[0m\u001b[0;34m)\u001b[0m\u001b[0;34m\u001b[0m\u001b[0;34m\u001b[0m\u001b[0m\n\u001b[0m\u001b[1;32m    916\u001b[0m \u001b[0;34m\u001b[0m\u001b[0m\n\u001b[1;32m    917\u001b[0m       \u001b[0mnew_tracing_count\u001b[0m \u001b[0;34m=\u001b[0m \u001b[0mself\u001b[0m\u001b[0;34m.\u001b[0m\u001b[0mexperimental_get_tracing_count\u001b[0m\u001b[0;34m(\u001b[0m\u001b[0;34m)\u001b[0m\u001b[0;34m\u001b[0m\u001b[0;34m\u001b[0m\u001b[0m\n",
            "\u001b[0;32m/usr/local/lib/python3.7/dist-packages/tensorflow/python/eager/def_function.py\u001b[0m in \u001b[0;36m_call\u001b[0;34m(self, *args, **kwds)\u001b[0m\n\u001b[1;32m    945\u001b[0m       \u001b[0;31m# In this case we have created variables on the first call, so we run the\u001b[0m\u001b[0;34m\u001b[0m\u001b[0;34m\u001b[0m\u001b[0;34m\u001b[0m\u001b[0m\n\u001b[1;32m    946\u001b[0m       \u001b[0;31m# defunned version which is guaranteed to never create variables.\u001b[0m\u001b[0;34m\u001b[0m\u001b[0;34m\u001b[0m\u001b[0;34m\u001b[0m\u001b[0m\n\u001b[0;32m--> 947\u001b[0;31m       \u001b[0;32mreturn\u001b[0m \u001b[0mself\u001b[0m\u001b[0;34m.\u001b[0m\u001b[0m_stateless_fn\u001b[0m\u001b[0;34m(\u001b[0m\u001b[0;34m*\u001b[0m\u001b[0margs\u001b[0m\u001b[0;34m,\u001b[0m \u001b[0;34m**\u001b[0m\u001b[0mkwds\u001b[0m\u001b[0;34m)\u001b[0m  \u001b[0;31m# pylint: disable=not-callable\u001b[0m\u001b[0;34m\u001b[0m\u001b[0;34m\u001b[0m\u001b[0m\n\u001b[0m\u001b[1;32m    948\u001b[0m     \u001b[0;32melif\u001b[0m \u001b[0mself\u001b[0m\u001b[0;34m.\u001b[0m\u001b[0m_stateful_fn\u001b[0m \u001b[0;32mis\u001b[0m \u001b[0;32mnot\u001b[0m \u001b[0;32mNone\u001b[0m\u001b[0;34m:\u001b[0m\u001b[0;34m\u001b[0m\u001b[0;34m\u001b[0m\u001b[0m\n\u001b[1;32m    949\u001b[0m       \u001b[0;31m# Release the lock early so that multiple threads can perform the call\u001b[0m\u001b[0;34m\u001b[0m\u001b[0;34m\u001b[0m\u001b[0;34m\u001b[0m\u001b[0m\n",
            "\u001b[0;32m/usr/local/lib/python3.7/dist-packages/tensorflow/python/eager/function.py\u001b[0m in \u001b[0;36m__call__\u001b[0;34m(self, *args, **kwargs)\u001b[0m\n\u001b[1;32m   2955\u001b[0m        filtered_flat_args) = self._maybe_define_function(args, kwargs)\n\u001b[1;32m   2956\u001b[0m     return graph_function._call_flat(\n\u001b[0;32m-> 2957\u001b[0;31m         filtered_flat_args, captured_inputs=graph_function.captured_inputs)  # pylint: disable=protected-access\n\u001b[0m\u001b[1;32m   2958\u001b[0m \u001b[0;34m\u001b[0m\u001b[0m\n\u001b[1;32m   2959\u001b[0m   \u001b[0;34m@\u001b[0m\u001b[0mproperty\u001b[0m\u001b[0;34m\u001b[0m\u001b[0;34m\u001b[0m\u001b[0m\n",
            "\u001b[0;32m/usr/local/lib/python3.7/dist-packages/tensorflow/python/eager/function.py\u001b[0m in \u001b[0;36m_call_flat\u001b[0;34m(self, args, captured_inputs, cancellation_manager)\u001b[0m\n\u001b[1;32m   1852\u001b[0m       \u001b[0;31m# No tape is watching; skip to running the function.\u001b[0m\u001b[0;34m\u001b[0m\u001b[0;34m\u001b[0m\u001b[0;34m\u001b[0m\u001b[0m\n\u001b[1;32m   1853\u001b[0m       return self._build_call_outputs(self._inference_function.call(\n\u001b[0;32m-> 1854\u001b[0;31m           ctx, args, cancellation_manager=cancellation_manager))\n\u001b[0m\u001b[1;32m   1855\u001b[0m     forward_backward = self._select_forward_and_backward_functions(\n\u001b[1;32m   1856\u001b[0m         \u001b[0margs\u001b[0m\u001b[0;34m,\u001b[0m\u001b[0;34m\u001b[0m\u001b[0;34m\u001b[0m\u001b[0m\n",
            "\u001b[0;32m/usr/local/lib/python3.7/dist-packages/tensorflow/python/eager/function.py\u001b[0m in \u001b[0;36mcall\u001b[0;34m(self, ctx, args, cancellation_manager)\u001b[0m\n\u001b[1;32m    502\u001b[0m               \u001b[0minputs\u001b[0m\u001b[0;34m=\u001b[0m\u001b[0margs\u001b[0m\u001b[0;34m,\u001b[0m\u001b[0;34m\u001b[0m\u001b[0;34m\u001b[0m\u001b[0m\n\u001b[1;32m    503\u001b[0m               \u001b[0mattrs\u001b[0m\u001b[0;34m=\u001b[0m\u001b[0mattrs\u001b[0m\u001b[0;34m,\u001b[0m\u001b[0;34m\u001b[0m\u001b[0;34m\u001b[0m\u001b[0m\n\u001b[0;32m--> 504\u001b[0;31m               ctx=ctx)\n\u001b[0m\u001b[1;32m    505\u001b[0m         \u001b[0;32melse\u001b[0m\u001b[0;34m:\u001b[0m\u001b[0;34m\u001b[0m\u001b[0;34m\u001b[0m\u001b[0m\n\u001b[1;32m    506\u001b[0m           outputs = execute.execute_with_cancellation(\n",
            "\u001b[0;32m/usr/local/lib/python3.7/dist-packages/tensorflow/python/eager/execute.py\u001b[0m in \u001b[0;36mquick_execute\u001b[0;34m(op_name, num_outputs, inputs, attrs, ctx, name)\u001b[0m\n\u001b[1;32m     53\u001b[0m     \u001b[0mctx\u001b[0m\u001b[0;34m.\u001b[0m\u001b[0mensure_initialized\u001b[0m\u001b[0;34m(\u001b[0m\u001b[0;34m)\u001b[0m\u001b[0;34m\u001b[0m\u001b[0;34m\u001b[0m\u001b[0m\n\u001b[1;32m     54\u001b[0m     tensors = pywrap_tfe.TFE_Py_Execute(ctx._handle, device_name, op_name,\n\u001b[0;32m---> 55\u001b[0;31m                                         inputs, attrs, num_outputs)\n\u001b[0m\u001b[1;32m     56\u001b[0m   \u001b[0;32mexcept\u001b[0m \u001b[0mcore\u001b[0m\u001b[0;34m.\u001b[0m\u001b[0m_NotOkStatusException\u001b[0m \u001b[0;32mas\u001b[0m \u001b[0me\u001b[0m\u001b[0;34m:\u001b[0m\u001b[0;34m\u001b[0m\u001b[0;34m\u001b[0m\u001b[0m\n\u001b[1;32m     57\u001b[0m     \u001b[0;32mif\u001b[0m \u001b[0mname\u001b[0m \u001b[0;32mis\u001b[0m \u001b[0;32mnot\u001b[0m \u001b[0;32mNone\u001b[0m\u001b[0;34m:\u001b[0m\u001b[0;34m\u001b[0m\u001b[0;34m\u001b[0m\u001b[0m\n",
            "\u001b[0;31mKeyboardInterrupt\u001b[0m: "
          ]
        }
      ]
    },
    {
      "cell_type": "code",
      "source": [
        "class CNNV2(tf.keras.Model):\n",
        "\n",
        "    def __init__(self,input_dim,output_size):\n",
        "        super().__init__()\n",
        "        self.input_dim = input_dim\n",
        "        self.output_size = output_size\n",
        "        \n",
        "        self.input_size = [-1,self.input_dim,self.input_dim,1]\n",
        "        \n",
        "        #1st layer\n",
        "        #Param 1: Number of filters\n",
        "        #Param 2 = Kernel matrix size\n",
        "        self.conv1 = tf.keras.layers.Conv2D(32,5,padding = 'same',activation='relu',name='conv1',\n",
        "                    input_shape = self.input_size ,data_format='channels_last')\n",
        "        \n",
        "        \n",
        "        #Max pool layer 1\n",
        "        self.maxpool1 = tf.keras.layers.MaxPool2D(strides=(2,2),name='pool1')\n",
        "        \n",
        "        #2nd layer with 64 filters\n",
        "        self.conv2 = tf.keras.layers.Conv2D(64,5,padding = 'same',activation='relu',name='conv2'\n",
        "        )\n",
        "        \n",
        "        #Max pool layer 2\n",
        "        self.maxpool2 = tf.keras.layers.MaxPool2D(strides=2,name='pool2')\n",
        "\n",
        "        #3rd layer with 64 filters\n",
        "        self.conv3 = tf.keras.layers.Conv2D(64,5,padding = 'same',activation='relu',name='conv3'\n",
        "        )\n",
        "        \n",
        "        #Max pool layer 3\n",
        "        self.maxpool3 = tf.keras.layers.MaxPool2D(strides=2,name='pool3')\n",
        "\n",
        "        #Final Convolution layer\n",
        "        self.conv4 = tf.keras.layers.Conv2D(32,5,padding = 'same',activation='relu',name='conv4'\n",
        "        )\n",
        "        \n",
        "        #Max pool layer 4\n",
        "        self.maxpool4 = tf.keras.layers.MaxPool2D(strides=2,name='pool4')\n",
        "\n",
        "        #Dense fully connected layer\n",
        "        self.dense = tf.keras.layers.Dense(\n",
        "            1024, activation='relu', name='dense')\n",
        "        \n",
        "        #Apply dropout during training to avoid co-adaptation\n",
        "        self.dropout = tf.keras.layers.Dropout(rate=0.4)\n",
        "        \n",
        "        #Activation function will be applied to this to get predictions\n",
        "        self.logits = tf.keras.layers.Dense(self.output_size,name='logits')\n",
        "        \n",
        "        \n",
        "    def call(self,inputs,training=False):\n",
        "    \n",
        "        #Forward run of the model\n",
        "        \n",
        "        \n",
        "        reshaped_inputs = tf.reshape(inputs,self.input_size)\n",
        "\n",
        "        conv1 = self.conv1(reshaped_inputs)\n",
        "\n",
        "        maxpool1 = self.maxpool1(conv1)\n",
        "\n",
        "        conv2 = self.conv2(maxpool1)\n",
        "\n",
        "        maxpool2 = self.maxpool2(conv2)\n",
        "\n",
        "        conv3 = self.conv3(maxpool2)\n",
        "\n",
        "        maxpool3 = self.maxpool3(conv3)\n",
        "\n",
        "        conv4 = self.conv4(maxpool3)\n",
        "\n",
        "        maxpool4 = self.maxpool4(conv4)\n",
        "\n",
        "        #Calculate height width channels from maxpool4 layer\n",
        "        #This is required for creating the fully connected layer\n",
        "        hwc = maxpool4.shape.as_list()[1:]\n",
        "\n",
        "        #Calculate the flattened size\n",
        "        flattened_size = hwc[0] * hwc[1] * hwc[2]\n",
        "\n",
        "        #Reshape max pool 2 from NHWC format to 2D format\n",
        "        #First argument batch size is -1 and can take the value required for the reshaping operation\n",
        "        pool2_flat = tf.reshape(maxpool4, [-1, flattened_size])\n",
        "\n",
        "\n",
        "        dense = self.dense(pool2_flat)\n",
        "\n",
        "        if training:\n",
        "            dropout = self.dropout(dense,training=training)\n",
        "            logits = self.logits(dropout)\n",
        "            return tf.nn.softmax(logits)\n",
        "        else:\n",
        "            logits = self.logits(dense)\n",
        "            return tf.nn.softmax(logits)\n",
        "            #return self.convertLogits(logits)\n",
        "\n",
        "\n",
        "    def convertLogits(self,logits):\n",
        "        softmax = tf.nn.softmax(logits,name='softmax')\n",
        "        prediction = tf.math.argmax(softmax,axis=-1)\n",
        "        return prediction\n"
      ],
      "metadata": {
        "id": "P5yk-mth8_kL"
      },
      "id": "P5yk-mth8_kL",
      "execution_count": null,
      "outputs": []
    },
    {
      "cell_type": "code",
      "source": [
        "cnn = CNNV2(48,7)"
      ],
      "metadata": {
        "id": "XNaRqoSgW66R"
      },
      "id": "XNaRqoSgW66R",
      "execution_count": null,
      "outputs": []
    },
    {
      "cell_type": "code",
      "source": [
        "cnn.compile(optimizer=sgd,\n",
        "    loss= 'categorical_crossentropy',\n",
        "    metrics=['accuracy'])"
      ],
      "metadata": {
        "id": "xQXe2O6dW_vW"
      },
      "id": "xQXe2O6dW_vW",
      "execution_count": null,
      "outputs": []
    },
    {
      "cell_type": "code",
      "source": [
        "SGD_LEARNING_RATE = 0.01\n",
        "SGD_DECAY = 0.0001\n",
        "\n",
        "sgd = tf.keras.optimizers.SGD(learning_rate=SGD_LEARNING_RATE,momentum=0.9, decay=SGD_DECAY, nesterov=True)"
      ],
      "metadata": {
        "id": "fa1NB-DOO8Wy"
      },
      "id": "fa1NB-DOO8Wy",
      "execution_count": null,
      "outputs": []
    },
    {
      "cell_type": "code",
      "source": [
        "from keras.models import Sequential\n",
        "from keras.layers import Dense, Dropout, Flatten\n",
        "from keras.layers import Conv2D, MaxPooling2D, BatchNormalization\n",
        "from keras.callbacks import ReduceLROnPlateau\n",
        "from keras.callbacks import ModelCheckpoint, EarlyStopping"
      ],
      "metadata": {
        "id": "Ncu2cgq4s8kg"
      },
      "id": "Ncu2cgq4s8kg",
      "execution_count": null,
      "outputs": []
    },
    {
      "cell_type": "code",
      "source": [
        "model = Sequential()\n",
        "model.add(BatchNormalization(input_shape=(48,48,1)))\n",
        "model.add(Conv2D(32, (3, 3), activation='relu',padding='same', input_shape=(48,48,1),name=\"conv1\"))\n",
        "model.add(BatchNormalization())\n",
        "#model.add(MaxPooling2D(pool_size=(2, 2),name=\"maxpool1\"))\n",
        "model.add(Dropout(0.2))\n",
        "model.add(Conv2D(32, (3, 3), activation='relu',padding='same',name=\"conv2\"))\n",
        "model.add(BatchNormalization())\n",
        "model.add(MaxPooling2D(pool_size=(2, 2),name=\"maxpool2\"))         \n",
        "model.add(Dropout(0.2))\n",
        "model.add(Conv2D(64, (3, 3), activation='relu',padding='same',name=\"conv3\"))\n",
        "model.add(BatchNormalization())\n",
        "model.add(MaxPooling2D(pool_size=(2, 2),name=\"maxpool3\"))\n",
        "model.add(Dropout(0.2))\n",
        "model.add(Conv2D(64, (3, 3), activation='relu',padding='same',name=\"conv4\"))\n",
        "model.add(BatchNormalization())\n",
        "model.add(MaxPooling2D(pool_size=(2, 2),name=\"maxpool4\"))\n",
        "model.add(Dropout(0.2))\n",
        "model.add(Flatten())\n",
        "model.add(Dense(1024, activation='relu',name='fc1'))\n",
        "model.add(Dropout(0.3))\n",
        "model.add(BatchNormalization())\n",
        "model.add(Dense(7, activation='softmax',name='fcsoftmax'))\n",
        "\n",
        "\n",
        "model.compile(loss='categorical_crossentropy',optimizer='adam',metrics=['accuracy'])\n",
        "\n",
        "model.summary()\n"
      ],
      "metadata": {
        "colab": {
          "base_uri": "https://localhost:8080/"
        },
        "id": "ymNXgPoJdB2s",
        "outputId": "67ffcd1c-7a18-4323-dfe0-ee18b1b4cb2a"
      },
      "id": "ymNXgPoJdB2s",
      "execution_count": null,
      "outputs": [
        {
          "output_type": "stream",
          "name": "stdout",
          "text": [
            "Model: \"sequential_1\"\n",
            "_________________________________________________________________\n",
            " Layer (type)                Output Shape              Param #   \n",
            "=================================================================\n",
            " batch_normalization_6 (Batc  (None, 48, 48, 1)        4         \n",
            " hNormalization)                                                 \n",
            "                                                                 \n",
            " conv1 (Conv2D)              (None, 48, 48, 32)        320       \n",
            "                                                                 \n",
            " batch_normalization_7 (Batc  (None, 48, 48, 32)       128       \n",
            " hNormalization)                                                 \n",
            "                                                                 \n",
            " dropout_5 (Dropout)         (None, 48, 48, 32)        0         \n",
            "                                                                 \n",
            " conv2 (Conv2D)              (None, 48, 48, 32)        9248      \n",
            "                                                                 \n",
            " batch_normalization_8 (Batc  (None, 48, 48, 32)       128       \n",
            " hNormalization)                                                 \n",
            "                                                                 \n",
            " maxpool2 (MaxPooling2D)     (None, 24, 24, 32)        0         \n",
            "                                                                 \n",
            " dropout_6 (Dropout)         (None, 24, 24, 32)        0         \n",
            "                                                                 \n",
            " conv3 (Conv2D)              (None, 24, 24, 64)        18496     \n",
            "                                                                 \n",
            " batch_normalization_9 (Batc  (None, 24, 24, 64)       256       \n",
            " hNormalization)                                                 \n",
            "                                                                 \n",
            " maxpool3 (MaxPooling2D)     (None, 12, 12, 64)        0         \n",
            "                                                                 \n",
            " dropout_7 (Dropout)         (None, 12, 12, 64)        0         \n",
            "                                                                 \n",
            " conv4 (Conv2D)              (None, 12, 12, 64)        36928     \n",
            "                                                                 \n",
            " batch_normalization_10 (Bat  (None, 12, 12, 64)       256       \n",
            " chNormalization)                                                \n",
            "                                                                 \n",
            " maxpool4 (MaxPooling2D)     (None, 6, 6, 64)          0         \n",
            "                                                                 \n",
            " dropout_8 (Dropout)         (None, 6, 6, 64)          0         \n",
            "                                                                 \n",
            " flatten_1 (Flatten)         (None, 2304)              0         \n",
            "                                                                 \n",
            " fc1 (Dense)                 (None, 1024)              2360320   \n",
            "                                                                 \n",
            " dropout_9 (Dropout)         (None, 1024)              0         \n",
            "                                                                 \n",
            " batch_normalization_11 (Bat  (None, 1024)             4096      \n",
            " chNormalization)                                                \n",
            "                                                                 \n",
            " fcsoftmax (Dense)           (None, 7)                 7175      \n",
            "                                                                 \n",
            "=================================================================\n",
            "Total params: 2,437,355\n",
            "Trainable params: 2,434,921\n",
            "Non-trainable params: 2,434\n",
            "_________________________________________________________________\n"
          ]
        }
      ]
    },
    {
      "cell_type": "code",
      "source": [
        "%%time\n",
        "\n",
        "history = model.fit(train_generator,\n",
        "                  epochs=EPOCHS,\n",
        "                  validation_data=test_generator,\n",
        "                  callbacks = callbacks)"
      ],
      "metadata": {
        "colab": {
          "base_uri": "https://localhost:8080/"
        },
        "id": "UZxX9uo9eHpx",
        "outputId": "f1465cb7-83e0-431b-8824-2d3bafe00077"
      },
      "id": "UZxX9uo9eHpx",
      "execution_count": null,
      "outputs": [
        {
          "output_type": "stream",
          "name": "stdout",
          "text": [
            "Epoch 1/100\n",
            "225/225 [==============================] - 362s 2s/step - loss: 1.9995 - accuracy: 0.2742 - val_loss: 2.3403 - val_accuracy: 0.1558 - lr: 0.0010\n",
            "Epoch 2/100\n",
            "225/225 [==============================] - 359s 2s/step - loss: 1.6745 - accuracy: 0.3553 - val_loss: 1.6344 - val_accuracy: 0.3505 - lr: 0.0010\n",
            "Epoch 3/100\n",
            "225/225 [==============================] - 357s 2s/step - loss: 1.5477 - accuracy: 0.4026 - val_loss: 1.3545 - val_accuracy: 0.4737 - lr: 0.0010\n",
            "Epoch 4/100\n",
            "225/225 [==============================] - 357s 2s/step - loss: 1.4559 - accuracy: 0.4395 - val_loss: 1.3159 - val_accuracy: 0.4901 - lr: 0.0010\n",
            "Epoch 5/100\n",
            "225/225 [==============================] - 356s 2s/step - loss: 1.3902 - accuracy: 0.4668 - val_loss: 1.4445 - val_accuracy: 0.5013 - lr: 0.0010\n",
            "Epoch 6/100\n",
            "225/225 [==============================] - 367s 2s/step - loss: 1.3489 - accuracy: 0.4851 - val_loss: 1.2239 - val_accuracy: 0.5347 - lr: 0.0010\n",
            "Epoch 7/100\n",
            "225/225 [==============================] - 360s 2s/step - loss: 1.3079 - accuracy: 0.5019 - val_loss: 1.2447 - val_accuracy: 0.5313 - lr: 0.0010\n",
            "Epoch 8/100\n",
            "225/225 [==============================] - 358s 2s/step - loss: 1.2772 - accuracy: 0.5116 - val_loss: 1.1898 - val_accuracy: 0.5403 - lr: 0.0010\n",
            "Epoch 9/100\n",
            "225/225 [==============================] - 362s 2s/step - loss: 1.2539 - accuracy: 0.5213 - val_loss: 1.1605 - val_accuracy: 0.5634 - lr: 0.0010\n",
            "Epoch 10/100\n",
            "225/225 [==============================] - 362s 2s/step - loss: 1.2375 - accuracy: 0.5343 - val_loss: 1.1490 - val_accuracy: 0.5662 - lr: 0.0010\n",
            "Epoch 11/100\n",
            "225/225 [==============================] - 361s 2s/step - loss: 1.2132 - accuracy: 0.5375 - val_loss: 1.1257 - val_accuracy: 0.5743 - lr: 0.0010\n",
            "Epoch 12/100\n",
            "225/225 [==============================] - 358s 2s/step - loss: 1.1995 - accuracy: 0.5464 - val_loss: 1.1139 - val_accuracy: 0.5723 - lr: 0.0010\n",
            "Epoch 13/100\n",
            "225/225 [==============================] - 357s 2s/step - loss: 1.1824 - accuracy: 0.5518 - val_loss: 1.1184 - val_accuracy: 0.5801 - lr: 0.0010\n",
            "Epoch 14/100\n",
            "225/225 [==============================] - 357s 2s/step - loss: 1.1723 - accuracy: 0.5511 - val_loss: 1.0908 - val_accuracy: 0.5899 - lr: 0.0010\n",
            "Epoch 15/100\n",
            "225/225 [==============================] - 355s 2s/step - loss: 1.1653 - accuracy: 0.5568 - val_loss: 1.0912 - val_accuracy: 0.5871 - lr: 0.0010\n",
            "Epoch 16/100\n",
            "225/225 [==============================] - 355s 2s/step - loss: 1.1499 - accuracy: 0.5642 - val_loss: 1.0973 - val_accuracy: 0.5901 - lr: 0.0010\n",
            "Epoch 17/100\n",
            "225/225 [==============================] - 354s 2s/step - loss: 1.1387 - accuracy: 0.5685 - val_loss: 1.0675 - val_accuracy: 0.5957 - lr: 0.0010\n",
            "Epoch 18/100\n",
            "225/225 [==============================] - 358s 2s/step - loss: 1.1323 - accuracy: 0.5710 - val_loss: 1.0862 - val_accuracy: 0.5915 - lr: 0.0010\n",
            "Epoch 19/100\n",
            "225/225 [==============================] - 357s 2s/step - loss: 1.1191 - accuracy: 0.5756 - val_loss: 1.0631 - val_accuracy: 0.5985 - lr: 0.0010\n",
            "Epoch 20/100\n",
            "225/225 [==============================] - 357s 2s/step - loss: 1.1082 - accuracy: 0.5806 - val_loss: 1.0653 - val_accuracy: 0.6010 - lr: 0.0010\n",
            "Epoch 21/100\n",
            "225/225 [==============================] - 361s 2s/step - loss: 1.0983 - accuracy: 0.5832 - val_loss: 1.0598 - val_accuracy: 0.6038 - lr: 0.0010\n",
            "Epoch 22/100\n",
            "225/225 [==============================] - 359s 2s/step - loss: 1.0983 - accuracy: 0.5827 - val_loss: 1.0331 - val_accuracy: 0.6197 - lr: 0.0010\n",
            "Epoch 23/100\n",
            "225/225 [==============================] - 360s 2s/step - loss: 1.0895 - accuracy: 0.5875 - val_loss: 1.0601 - val_accuracy: 0.6119 - lr: 0.0010\n",
            "Epoch 24/100\n",
            "225/225 [==============================] - 358s 2s/step - loss: 1.0870 - accuracy: 0.5871 - val_loss: 1.0412 - val_accuracy: 0.6096 - lr: 0.0010\n",
            "Epoch 25/100\n",
            "225/225 [==============================] - 357s 2s/step - loss: 1.0750 - accuracy: 0.5931 - val_loss: 1.0363 - val_accuracy: 0.6208 - lr: 0.0010\n",
            "Epoch 26/100\n",
            "225/225 [==============================] - 357s 2s/step - loss: 1.0725 - accuracy: 0.5927 - val_loss: 1.0340 - val_accuracy: 0.6222 - lr: 0.0010\n",
            "Epoch 27/100\n",
            "225/225 [==============================] - 357s 2s/step - loss: 1.0612 - accuracy: 0.6005 - val_loss: 1.0335 - val_accuracy: 0.6121 - lr: 0.0010\n",
            "Epoch 28/100\n",
            "225/225 [==============================] - 362s 2s/step - loss: 1.0344 - accuracy: 0.6086 - val_loss: 1.0040 - val_accuracy: 0.6272 - lr: 1.0000e-04\n",
            "Epoch 29/100\n",
            "225/225 [==============================] - 362s 2s/step - loss: 1.0180 - accuracy: 0.6178 - val_loss: 1.0020 - val_accuracy: 0.6250 - lr: 1.0000e-04\n",
            "Epoch 30/100\n",
            "225/225 [==============================] - 361s 2s/step - loss: 1.0119 - accuracy: 0.6169 - val_loss: 1.0011 - val_accuracy: 0.6317 - lr: 1.0000e-04\n",
            "Epoch 31/100\n",
            "225/225 [==============================] - 360s 2s/step - loss: 1.0078 - accuracy: 0.6190 - val_loss: 1.0027 - val_accuracy: 0.6291 - lr: 1.0000e-04\n",
            "Epoch 32/100\n",
            "225/225 [==============================] - 357s 2s/step - loss: 1.0143 - accuracy: 0.6212 - val_loss: 0.9950 - val_accuracy: 0.6325 - lr: 1.0000e-04\n",
            "Epoch 33/100\n",
            "225/225 [==============================] - 358s 2s/step - loss: 1.0008 - accuracy: 0.6233 - val_loss: 0.9925 - val_accuracy: 0.6395 - lr: 1.0000e-04\n",
            "Epoch 34/100\n",
            "225/225 [==============================] - 359s 2s/step - loss: 0.9933 - accuracy: 0.6245 - val_loss: 0.9903 - val_accuracy: 0.6369 - lr: 1.0000e-04\n",
            "Epoch 35/100\n",
            "225/225 [==============================] - 362s 2s/step - loss: 0.9917 - accuracy: 0.6297 - val_loss: 0.9916 - val_accuracy: 0.6339 - lr: 1.0000e-04\n",
            "Epoch 36/100\n",
            "225/225 [==============================] - 364s 2s/step - loss: 0.9883 - accuracy: 0.6279 - val_loss: 0.9913 - val_accuracy: 0.6364 - lr: 1.0000e-04\n",
            "Epoch 37/100\n",
            "225/225 [==============================] - 363s 2s/step - loss: 0.9859 - accuracy: 0.6311 - val_loss: 0.9855 - val_accuracy: 0.6372 - lr: 1.0000e-04\n",
            "Epoch 38/100\n",
            "225/225 [==============================] - 359s 2s/step - loss: 0.9745 - accuracy: 0.6372 - val_loss: 0.9866 - val_accuracy: 0.6397 - lr: 1.0000e-04\n",
            "Epoch 39/100\n",
            "225/225 [==============================] - 357s 2s/step - loss: 0.9808 - accuracy: 0.6303 - val_loss: 0.9873 - val_accuracy: 0.6375 - lr: 1.0000e-04\n",
            "Epoch 40/100\n",
            "225/225 [==============================] - 357s 2s/step - loss: 0.9795 - accuracy: 0.6315 - val_loss: 0.9854 - val_accuracy: 0.6356 - lr: 1.0000e-04\n",
            "Epoch 41/100\n",
            "225/225 [==============================] - 356s 2s/step - loss: 0.9756 - accuracy: 0.6334 - val_loss: 0.9860 - val_accuracy: 0.6411 - lr: 1.0000e-04\n",
            "Epoch 42/100\n",
            "225/225 [==============================] - 358s 2s/step - loss: 0.9778 - accuracy: 0.6348 - val_loss: 0.9847 - val_accuracy: 0.6381 - lr: 1.0000e-04\n",
            "Epoch 43/100\n",
            "225/225 [==============================] - 356s 2s/step - loss: 0.9718 - accuracy: 0.6369 - val_loss: 0.9876 - val_accuracy: 0.6428 - lr: 1.0000e-04\n",
            "Epoch 44/100\n",
            "225/225 [==============================] - 357s 2s/step - loss: 0.9723 - accuracy: 0.6350 - val_loss: 0.9820 - val_accuracy: 0.6406 - lr: 1.0000e-04\n",
            "Epoch 45/100\n",
            "225/225 [==============================] - 356s 2s/step - loss: 0.9689 - accuracy: 0.6350 - val_loss: 0.9814 - val_accuracy: 0.6431 - lr: 1.0000e-04\n",
            "Epoch 46/100\n",
            "225/225 [==============================] - 354s 2s/step - loss: 0.9623 - accuracy: 0.6397 - val_loss: 0.9797 - val_accuracy: 0.6386 - lr: 1.0000e-04\n",
            "Epoch 47/100\n",
            "225/225 [==============================] - 359s 2s/step - loss: 0.9678 - accuracy: 0.6374 - val_loss: 0.9837 - val_accuracy: 0.6400 - lr: 1.0000e-04\n",
            "Epoch 48/100\n",
            "225/225 [==============================] - 362s 2s/step - loss: 0.9654 - accuracy: 0.6384 - val_loss: 0.9815 - val_accuracy: 0.6414 - lr: 1.0000e-04\n",
            "Epoch 49/100\n",
            "225/225 [==============================] - 362s 2s/step - loss: 0.9653 - accuracy: 0.6336 - val_loss: 0.9808 - val_accuracy: 0.6420 - lr: 1.0000e-04\n",
            "Epoch 50/100\n",
            "225/225 [==============================] - 361s 2s/step - loss: 0.9623 - accuracy: 0.6391 - val_loss: 0.9791 - val_accuracy: 0.6411 - lr: 1.0000e-04\n",
            "Epoch 51/100\n",
            "225/225 [==============================] - 358s 2s/step - loss: 0.9605 - accuracy: 0.6444 - val_loss: 0.9830 - val_accuracy: 0.6375 - lr: 1.0000e-04\n",
            "Epoch 52/100\n",
            "225/225 [==============================] - 357s 2s/step - loss: 0.9593 - accuracy: 0.6406 - val_loss: 0.9800 - val_accuracy: 0.6425 - lr: 1.0000e-04\n",
            "Epoch 53/100\n",
            "225/225 [==============================] - 356s 2s/step - loss: 0.9579 - accuracy: 0.6378 - val_loss: 0.9785 - val_accuracy: 0.6428 - lr: 1.0000e-04\n",
            "Epoch 54/100\n",
            "225/225 [==============================] - 354s 2s/step - loss: 0.9523 - accuracy: 0.6427 - val_loss: 0.9806 - val_accuracy: 0.6428 - lr: 1.0000e-04\n",
            "Epoch 55/100\n",
            "225/225 [==============================] - 354s 2s/step - loss: 0.9505 - accuracy: 0.6424 - val_loss: 0.9834 - val_accuracy: 0.6400 - lr: 1.0000e-04\n",
            "Epoch 56/100\n",
            "225/225 [==============================] - 355s 2s/step - loss: 0.9484 - accuracy: 0.6448 - val_loss: 0.9786 - val_accuracy: 0.6411 - lr: 1.0000e-04\n",
            "Epoch 57/100\n",
            "225/225 [==============================] - 355s 2s/step - loss: 0.9464 - accuracy: 0.6446 - val_loss: 0.9805 - val_accuracy: 0.6425 - lr: 1.0000e-04\n",
            "Epoch 58/100\n",
            "225/225 [==============================] - 354s 2s/step - loss: 0.9398 - accuracy: 0.6460 - val_loss: 0.9766 - val_accuracy: 0.6403 - lr: 1.0000e-04\n",
            "Epoch 59/100\n",
            "225/225 [==============================] - 354s 2s/step - loss: 0.9435 - accuracy: 0.6462 - val_loss: 0.9794 - val_accuracy: 0.6408 - lr: 1.0000e-04\n",
            "Epoch 60/100\n",
            "225/225 [==============================] - 353s 2s/step - loss: 0.9443 - accuracy: 0.6465 - val_loss: 0.9729 - val_accuracy: 0.6442 - lr: 1.0000e-04\n",
            "Epoch 61/100\n",
            "225/225 [==============================] - 356s 2s/step - loss: 0.9431 - accuracy: 0.6464 - val_loss: 0.9753 - val_accuracy: 0.6425 - lr: 1.0000e-04\n",
            "Epoch 62/100\n",
            "225/225 [==============================] - 357s 2s/step - loss: 0.9362 - accuracy: 0.6501 - val_loss: 0.9726 - val_accuracy: 0.6411 - lr: 1.0000e-04\n",
            "Epoch 63/100\n",
            "225/225 [==============================] - 357s 2s/step - loss: 0.9414 - accuracy: 0.6497 - val_loss: 0.9793 - val_accuracy: 0.6411 - lr: 1.0000e-04\n",
            "Epoch 64/100\n",
            "225/225 [==============================] - 357s 2s/step - loss: 0.9352 - accuracy: 0.6511 - val_loss: 0.9762 - val_accuracy: 0.6456 - lr: 1.0000e-04\n",
            "Epoch 65/100\n",
            "208/225 [==========================>...] - ETA: 26s - loss: 0.9399 - accuracy: 0.6453"
          ]
        }
      ]
    },
    {
      "cell_type": "code",
      "source": [
        ""
      ],
      "metadata": {
        "id": "07AbtkD0eaP2"
      },
      "id": "07AbtkD0eaP2",
      "execution_count": null,
      "outputs": []
    },
    {
      "cell_type": "code",
      "source": [
        ""
      ],
      "metadata": {
        "id": "feVkmgAi38a0"
      },
      "id": "feVkmgAi38a0",
      "execution_count": null,
      "outputs": []
    }
  ],
  "metadata": {
    "kernelspec": {
      "display_name": "Python 3",
      "name": "python3"
    },
    "language_info": {
      "name": "python"
    },
    "colab": {
      "name": "FERplus.ipynb",
      "provenance": [],
      "collapsed_sections": []
    }
  },
  "nbformat": 4,
  "nbformat_minor": 5
}